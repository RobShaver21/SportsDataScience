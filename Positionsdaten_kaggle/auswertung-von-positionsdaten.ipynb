{
 "cells": [
  {
   "cell_type": "markdown",
   "metadata": {
    "papermill": {
     "duration": 0.01972,
     "end_time": "2021-01-18T09:25:43.257998",
     "exception": false,
     "start_time": "2021-01-18T09:25:43.238278",
     "status": "completed"
    },
    "tags": []
   },
   "source": [
    "\n",
    "<span style=\"color:red\">\n",
    "    Dies ist eine vorläufige Version zu Demonstrationszwecken im Rahmen der Vorlesung \"Digitalisierung im Sport\".\n",
    "    </span>"
   ]
  },
  {
   "cell_type": "markdown",
   "metadata": {
    "papermill": {
     "duration": 0.018227,
     "end_time": "2021-01-18T09:25:43.295631",
     "exception": false,
     "start_time": "2021-01-18T09:25:43.277404",
     "status": "completed"
    },
    "tags": []
   },
   "source": [
    "# Auswertung von Positionsdaten am Beispiel Handball\n",
    "Wir zeigen dir hier beispielhaft, wie man Positionsdaten auswerten kann. Dafür steht uns eine Datei von einem Handballspieler zur Verfügung. Exemplarisch wollen wir dir zeigen, wie man aus x-,y-Koordinaten die zurückgelegte Distanz, Geschwindigkeit, die Distanz in verschiedenen Geschwindigkeitszonen und die Metabolic Power (Vgl. Osgnach et al, 2018) berechnet. Dafür nutzen wir dieses Notebook in der Programmiersprache Python. Du kannst die Blöcke einzeln ausführen und den Input verändern (z.B. andere Geschwindigkeitszonen). Viel Spass beim Ausprobieren! "
   ]
  },
  {
   "cell_type": "markdown",
   "metadata": {
    "papermill": {
     "duration": 0.018167,
     "end_time": "2021-01-18T09:25:43.332338",
     "exception": false,
     "start_time": "2021-01-18T09:25:43.314171",
     "status": "completed"
    },
    "tags": []
   },
   "source": [
    "# Import von Softwarepaketen\n",
    "Vorab müssen Softwarepakete geladen werden - den Schritt kannst du zunächst ohne zu hinterfragen ausführen. Nach `import` steht das zu ladende Paket. Nach `as` kannst du einen Namen festlegen, wie Funktionen aus dem Paket aufgerufen werden sollen. Mit `numpy` werden grundlegende Rechnungen (Lineare Algebra), mit `pandas` Datenverarbeitung (z.B. Laden von CSV-Dateien) und mit `matplotlib` Visualisierungen (Plots) abgedeckt. `scipy.signal` wird für einen Filter den wir später benutzen importiert."
   ]
  },
  {
   "cell_type": "code",
   "execution_count": 1,
   "metadata": {
    "execution": {
     "iopub.execute_input": "2021-01-18T09:25:43.375181Z",
     "iopub.status.busy": "2021-01-18T09:25:43.374464Z",
     "iopub.status.idle": "2021-01-18T09:25:44.325249Z",
     "shell.execute_reply": "2021-01-18T09:25:44.324362Z"
    },
    "papermill": {
     "duration": 0.974698,
     "end_time": "2021-01-18T09:25:44.325414",
     "exception": false,
     "start_time": "2021-01-18T09:25:43.350716",
     "status": "completed"
    },
    "tags": []
   },
   "outputs": [],
   "source": [
    "import numpy as np\n",
    "import pandas as pd \n",
    "import matplotlib.pyplot as plt\n",
    "from scipy import signal"
   ]
  },
  {
   "cell_type": "markdown",
   "metadata": {
    "papermill": {
     "duration": 0.018231,
     "end_time": "2021-01-18T09:25:44.364062",
     "exception": false,
     "start_time": "2021-01-18T09:25:44.345831",
     "status": "completed"
    },
    "tags": []
   },
   "source": [
    "# Daten einlesen\n",
    "CSV's sind Textdateien. CSV steht dabei für comma separated values. In der Tat sind die einzelnen Werte in unserer Beispielsdatei mit dem Semikolon \";\" getrennt, daher muss die Funktion angepasst werden. Der Pfad für die Datei ist in diesem Projekt hinterlegt, Wir lesen die Daten ein und speichern sie unter \"D\" (wie data) ab und rufen sie danach direkt auf:"
   ]
  },
  {
   "cell_type": "code",
   "execution_count": 2,
   "metadata": {
    "_cell_guid": "b1076dfc-b9ad-4769-8c92-a6c4dae69d19",
    "_uuid": "8f2839f25d086af736a60e9eeb907d3b93b6e0e5",
    "execution": {
     "iopub.execute_input": "2021-01-18T09:25:44.420245Z",
     "iopub.status.busy": "2021-01-18T09:25:44.419518Z",
     "iopub.status.idle": "2021-01-18T09:25:45.895392Z",
     "shell.execute_reply": "2021-01-18T09:25:45.894778Z"
    },
    "papermill": {
     "duration": 1.512753,
     "end_time": "2021-01-18T09:25:45.895509",
     "exception": false,
     "start_time": "2021-01-18T09:25:44.382756",
     "status": "completed"
    },
    "tags": []
   },
   "outputs": [
    {
     "data": {
      "text/html": [
       "<div>\n",
       "<style scoped>\n",
       "    .dataframe tbody tr th:only-of-type {\n",
       "        vertical-align: middle;\n",
       "    }\n",
       "\n",
       "    .dataframe tbody tr th {\n",
       "        vertical-align: top;\n",
       "    }\n",
       "\n",
       "    .dataframe thead th {\n",
       "        text-align: right;\n",
       "    }\n",
       "</style>\n",
       "<table border=\"1\" class=\"dataframe\">\n",
       "  <thead>\n",
       "    <tr style=\"text-align: right;\">\n",
       "      <th></th>\n",
       "      <th>ts</th>\n",
       "      <th>t</th>\n",
       "      <th>x</th>\n",
       "      <th>y</th>\n",
       "      <th>z</th>\n",
       "      <th>acc_x</th>\n",
       "      <th>acc_y</th>\n",
       "      <th>acc_z</th>\n",
       "      <th>gyro_x</th>\n",
       "      <th>gyro_y</th>\n",
       "      <th>gyro_z</th>\n",
       "      <th>quat_1</th>\n",
       "      <th>quat_i</th>\n",
       "      <th>quat_j</th>\n",
       "      <th>quat_k</th>\n",
       "    </tr>\n",
       "  </thead>\n",
       "  <tbody>\n",
       "    <tr>\n",
       "      <th>0</th>\n",
       "      <td>1.580000e+12</td>\n",
       "      <td>09.01.2020 18:06</td>\n",
       "      <td>NaN</td>\n",
       "      <td>NaN</td>\n",
       "      <td>NaN</td>\n",
       "      <td>-0.051</td>\n",
       "      <td>-0.013</td>\n",
       "      <td>1.251</td>\n",
       "      <td>0.187</td>\n",
       "      <td>0.321</td>\n",
       "      <td>-0.031</td>\n",
       "      <td>0.392</td>\n",
       "      <td>0.186</td>\n",
       "      <td>0.484</td>\n",
       "      <td>0.760</td>\n",
       "    </tr>\n",
       "    <tr>\n",
       "      <th>1</th>\n",
       "      <td>1.580000e+12</td>\n",
       "      <td>09.01.2020 18:06</td>\n",
       "      <td>NaN</td>\n",
       "      <td>NaN</td>\n",
       "      <td>NaN</td>\n",
       "      <td>0.039</td>\n",
       "      <td>-0.037</td>\n",
       "      <td>1.347</td>\n",
       "      <td>0.172</td>\n",
       "      <td>0.225</td>\n",
       "      <td>0.125</td>\n",
       "      <td>0.395</td>\n",
       "      <td>0.179</td>\n",
       "      <td>0.486</td>\n",
       "      <td>0.759</td>\n",
       "    </tr>\n",
       "    <tr>\n",
       "      <th>2</th>\n",
       "      <td>1.580000e+12</td>\n",
       "      <td>09.01.2020 18:06</td>\n",
       "      <td>NaN</td>\n",
       "      <td>NaN</td>\n",
       "      <td>NaN</td>\n",
       "      <td>0.107</td>\n",
       "      <td>-0.003</td>\n",
       "      <td>1.511</td>\n",
       "      <td>0.197</td>\n",
       "      <td>0.130</td>\n",
       "      <td>0.255</td>\n",
       "      <td>0.398</td>\n",
       "      <td>0.171</td>\n",
       "      <td>0.481</td>\n",
       "      <td>0.762</td>\n",
       "    </tr>\n",
       "    <tr>\n",
       "      <th>3</th>\n",
       "      <td>1.580000e+12</td>\n",
       "      <td>09.01.2020 18:06</td>\n",
       "      <td>NaN</td>\n",
       "      <td>NaN</td>\n",
       "      <td>NaN</td>\n",
       "      <td>0.114</td>\n",
       "      <td>0.110</td>\n",
       "      <td>1.701</td>\n",
       "      <td>0.239</td>\n",
       "      <td>0.128</td>\n",
       "      <td>0.262</td>\n",
       "      <td>0.399</td>\n",
       "      <td>0.169</td>\n",
       "      <td>0.472</td>\n",
       "      <td>0.768</td>\n",
       "    </tr>\n",
       "    <tr>\n",
       "      <th>4</th>\n",
       "      <td>1.580000e+12</td>\n",
       "      <td>09.01.2020 18:06</td>\n",
       "      <td>NaN</td>\n",
       "      <td>NaN</td>\n",
       "      <td>NaN</td>\n",
       "      <td>0.123</td>\n",
       "      <td>0.179</td>\n",
       "      <td>1.732</td>\n",
       "      <td>0.307</td>\n",
       "      <td>0.211</td>\n",
       "      <td>0.115</td>\n",
       "      <td>0.398</td>\n",
       "      <td>0.169</td>\n",
       "      <td>0.462</td>\n",
       "      <td>0.774</td>\n",
       "    </tr>\n",
       "    <tr>\n",
       "      <th>...</th>\n",
       "      <td>...</td>\n",
       "      <td>...</td>\n",
       "      <td>...</td>\n",
       "      <td>...</td>\n",
       "      <td>...</td>\n",
       "      <td>...</td>\n",
       "      <td>...</td>\n",
       "      <td>...</td>\n",
       "      <td>...</td>\n",
       "      <td>...</td>\n",
       "      <td>...</td>\n",
       "      <td>...</td>\n",
       "      <td>...</td>\n",
       "      <td>...</td>\n",
       "      <td>...</td>\n",
       "    </tr>\n",
       "    <tr>\n",
       "      <th>473468</th>\n",
       "      <td>1.580000e+12</td>\n",
       "      <td>09.01.2020 19:47:37.070</td>\n",
       "      <td>NaN</td>\n",
       "      <td>NaN</td>\n",
       "      <td>NaN</td>\n",
       "      <td>0.035</td>\n",
       "      <td>0.010</td>\n",
       "      <td>0.972</td>\n",
       "      <td>-0.025</td>\n",
       "      <td>-0.119</td>\n",
       "      <td>-1.164</td>\n",
       "      <td>-0.852</td>\n",
       "      <td>-0.485</td>\n",
       "      <td>0.138</td>\n",
       "      <td>0.139</td>\n",
       "    </tr>\n",
       "    <tr>\n",
       "      <th>473469</th>\n",
       "      <td>1.580000e+12</td>\n",
       "      <td>09.01.2020 19:47:37.083</td>\n",
       "      <td>NaN</td>\n",
       "      <td>NaN</td>\n",
       "      <td>NaN</td>\n",
       "      <td>0.027</td>\n",
       "      <td>0.006</td>\n",
       "      <td>0.908</td>\n",
       "      <td>0.065</td>\n",
       "      <td>-0.072</td>\n",
       "      <td>-1.091</td>\n",
       "      <td>-0.848</td>\n",
       "      <td>-0.489</td>\n",
       "      <td>0.150</td>\n",
       "      <td>0.140</td>\n",
       "    </tr>\n",
       "    <tr>\n",
       "      <th>473470</th>\n",
       "      <td>1.580000e+12</td>\n",
       "      <td>09.01.2020 19:47:37.096</td>\n",
       "      <td>NaN</td>\n",
       "      <td>NaN</td>\n",
       "      <td>NaN</td>\n",
       "      <td>-0.002</td>\n",
       "      <td>-0.005</td>\n",
       "      <td>0.835</td>\n",
       "      <td>0.162</td>\n",
       "      <td>-0.044</td>\n",
       "      <td>-1.021</td>\n",
       "      <td>-0.841</td>\n",
       "      <td>-0.497</td>\n",
       "      <td>0.155</td>\n",
       "      <td>0.145</td>\n",
       "    </tr>\n",
       "    <tr>\n",
       "      <th>473471</th>\n",
       "      <td>1.580000e+12</td>\n",
       "      <td>09.01.2020 19:47</td>\n",
       "      <td>NaN</td>\n",
       "      <td>NaN</td>\n",
       "      <td>NaN</td>\n",
       "      <td>0.001</td>\n",
       "      <td>0.004</td>\n",
       "      <td>0.796</td>\n",
       "      <td>0.256</td>\n",
       "      <td>-0.021</td>\n",
       "      <td>-0.971</td>\n",
       "      <td>-0.834</td>\n",
       "      <td>-0.507</td>\n",
       "      <td>0.158</td>\n",
       "      <td>0.152</td>\n",
       "    </tr>\n",
       "    <tr>\n",
       "      <th>473472</th>\n",
       "      <td>1.580000e+12</td>\n",
       "      <td>09.01.2020 19:47</td>\n",
       "      <td>-6.403</td>\n",
       "      <td>-0.836</td>\n",
       "      <td>1.6</td>\n",
       "      <td>NaN</td>\n",
       "      <td>NaN</td>\n",
       "      <td>NaN</td>\n",
       "      <td>NaN</td>\n",
       "      <td>NaN</td>\n",
       "      <td>NaN</td>\n",
       "      <td>NaN</td>\n",
       "      <td>NaN</td>\n",
       "      <td>NaN</td>\n",
       "      <td>NaN</td>\n",
       "    </tr>\n",
       "  </tbody>\n",
       "</table>\n",
       "<p>473473 rows × 15 columns</p>\n",
       "</div>"
      ],
      "text/plain": [
       "                  ts                        t      x      y    z  acc_x  \\\n",
       "0       1.580000e+12         09.01.2020 18:06    NaN    NaN  NaN -0.051   \n",
       "1       1.580000e+12         09.01.2020 18:06    NaN    NaN  NaN  0.039   \n",
       "2       1.580000e+12         09.01.2020 18:06    NaN    NaN  NaN  0.107   \n",
       "3       1.580000e+12         09.01.2020 18:06    NaN    NaN  NaN  0.114   \n",
       "4       1.580000e+12         09.01.2020 18:06    NaN    NaN  NaN  0.123   \n",
       "...              ...                      ...    ...    ...  ...    ...   \n",
       "473468  1.580000e+12  09.01.2020 19:47:37.070    NaN    NaN  NaN  0.035   \n",
       "473469  1.580000e+12  09.01.2020 19:47:37.083    NaN    NaN  NaN  0.027   \n",
       "473470  1.580000e+12  09.01.2020 19:47:37.096    NaN    NaN  NaN -0.002   \n",
       "473471  1.580000e+12         09.01.2020 19:47    NaN    NaN  NaN  0.001   \n",
       "473472  1.580000e+12         09.01.2020 19:47 -6.403 -0.836  1.6    NaN   \n",
       "\n",
       "        acc_y  acc_z  gyro_x  gyro_y  gyro_z  quat_1  quat_i  quat_j  quat_k  \n",
       "0      -0.013  1.251   0.187   0.321  -0.031   0.392   0.186   0.484   0.760  \n",
       "1      -0.037  1.347   0.172   0.225   0.125   0.395   0.179   0.486   0.759  \n",
       "2      -0.003  1.511   0.197   0.130   0.255   0.398   0.171   0.481   0.762  \n",
       "3       0.110  1.701   0.239   0.128   0.262   0.399   0.169   0.472   0.768  \n",
       "4       0.179  1.732   0.307   0.211   0.115   0.398   0.169   0.462   0.774  \n",
       "...       ...    ...     ...     ...     ...     ...     ...     ...     ...  \n",
       "473468  0.010  0.972  -0.025  -0.119  -1.164  -0.852  -0.485   0.138   0.139  \n",
       "473469  0.006  0.908   0.065  -0.072  -1.091  -0.848  -0.489   0.150   0.140  \n",
       "473470 -0.005  0.835   0.162  -0.044  -1.021  -0.841  -0.497   0.155   0.145  \n",
       "473471  0.004  0.796   0.256  -0.021  -0.971  -0.834  -0.507   0.158   0.152  \n",
       "473472    NaN    NaN     NaN     NaN     NaN     NaN     NaN     NaN     NaN  \n",
       "\n",
       "[473473 rows x 15 columns]"
      ]
     },
     "execution_count": 2,
     "metadata": {},
     "output_type": "execute_result"
    }
   ],
   "source": [
    "D=pd.read_csv('../input/positionsdaten-bsp/Postionsdaten_Beispiel.csv', delimiter=';')\n",
    "D"
   ]
  },
  {
   "cell_type": "markdown",
   "metadata": {
    "papermill": {
     "duration": 0.018877,
     "end_time": "2021-01-18T09:25:45.934803",
     "exception": false,
     "start_time": "2021-01-18T09:25:45.915926",
     "status": "completed"
    },
    "tags": []
   },
   "source": [
    "# Entfernen der IMU-Daten\n",
    "Wir haben 15 Spalten: ts und t zeigen uns die Zeit an, x / y / z sind die berechneten Positionsdaten des LPS-Systems, danach folgen die Daten des IMU-Sensors. Die IMU's messen mit einer höheren Frequenz; die Werte sind noch nicht synchronisiert, daher erscheinen `NaN`'s (not a number) in unserer Tabelle. Man kann die Daten auf eine beliebige Frequenz umrechnen (interpolieren) und so synchronisieren - um es nicht zu kompliziert zu machen lassen wir die IMU-Werte erstmal außen vor und entfernen diese. Dafür suchen wir alle Werte in der X-Spalte, die keine NaN's sind. Du kannst eine beliebige Spalte aus der Tabelle mit ihrem Namen aufrufen, z.B. \"D.x\":"
   ]
  },
  {
   "cell_type": "code",
   "execution_count": 3,
   "metadata": {
    "_cell_guid": "79c7e3d0-c299-4dcb-8224-4455121ee9b0",
    "_uuid": "d629ff2d2480ee46fbb7e2d37f6b5fab8052498a",
    "execution": {
     "iopub.execute_input": "2021-01-18T09:25:45.985963Z",
     "iopub.status.busy": "2021-01-18T09:25:45.984778Z",
     "iopub.status.idle": "2021-01-18T09:25:46.025106Z",
     "shell.execute_reply": "2021-01-18T09:25:46.024549Z"
    },
    "papermill": {
     "duration": 0.070949,
     "end_time": "2021-01-18T09:25:46.025247",
     "exception": false,
     "start_time": "2021-01-18T09:25:45.954298",
     "status": "completed"
    },
    "tags": []
   },
   "outputs": [
    {
     "data": {
      "text/html": [
       "<div>\n",
       "<style scoped>\n",
       "    .dataframe tbody tr th:only-of-type {\n",
       "        vertical-align: middle;\n",
       "    }\n",
       "\n",
       "    .dataframe tbody tr th {\n",
       "        vertical-align: top;\n",
       "    }\n",
       "\n",
       "    .dataframe thead th {\n",
       "        text-align: right;\n",
       "    }\n",
       "</style>\n",
       "<table border=\"1\" class=\"dataframe\">\n",
       "  <thead>\n",
       "    <tr style=\"text-align: right;\">\n",
       "      <th></th>\n",
       "      <th>ts</th>\n",
       "      <th>t</th>\n",
       "      <th>x</th>\n",
       "      <th>y</th>\n",
       "      <th>z</th>\n",
       "      <th>acc_x</th>\n",
       "      <th>acc_y</th>\n",
       "      <th>acc_z</th>\n",
       "      <th>gyro_x</th>\n",
       "      <th>gyro_y</th>\n",
       "      <th>gyro_z</th>\n",
       "      <th>quat_1</th>\n",
       "      <th>quat_i</th>\n",
       "      <th>quat_j</th>\n",
       "      <th>quat_k</th>\n",
       "    </tr>\n",
       "  </thead>\n",
       "  <tbody>\n",
       "    <tr>\n",
       "      <th>5</th>\n",
       "      <td>1.580000e+12</td>\n",
       "      <td>09.01.2020 18:06</td>\n",
       "      <td>22.020</td>\n",
       "      <td>-13.720</td>\n",
       "      <td>1.6</td>\n",
       "      <td>NaN</td>\n",
       "      <td>NaN</td>\n",
       "      <td>NaN</td>\n",
       "      <td>NaN</td>\n",
       "      <td>NaN</td>\n",
       "      <td>NaN</td>\n",
       "      <td>NaN</td>\n",
       "      <td>NaN</td>\n",
       "      <td>NaN</td>\n",
       "      <td>NaN</td>\n",
       "    </tr>\n",
       "    <tr>\n",
       "      <th>10</th>\n",
       "      <td>1.580000e+12</td>\n",
       "      <td>09.01.2020 18:06</td>\n",
       "      <td>21.927</td>\n",
       "      <td>-13.670</td>\n",
       "      <td>1.6</td>\n",
       "      <td>NaN</td>\n",
       "      <td>NaN</td>\n",
       "      <td>NaN</td>\n",
       "      <td>NaN</td>\n",
       "      <td>NaN</td>\n",
       "      <td>NaN</td>\n",
       "      <td>NaN</td>\n",
       "      <td>NaN</td>\n",
       "      <td>NaN</td>\n",
       "      <td>NaN</td>\n",
       "    </tr>\n",
       "    <tr>\n",
       "      <th>16</th>\n",
       "      <td>1.580000e+12</td>\n",
       "      <td>09.01.2020 18:06</td>\n",
       "      <td>21.837</td>\n",
       "      <td>-13.622</td>\n",
       "      <td>1.6</td>\n",
       "      <td>NaN</td>\n",
       "      <td>NaN</td>\n",
       "      <td>NaN</td>\n",
       "      <td>NaN</td>\n",
       "      <td>NaN</td>\n",
       "      <td>NaN</td>\n",
       "      <td>NaN</td>\n",
       "      <td>NaN</td>\n",
       "      <td>NaN</td>\n",
       "      <td>NaN</td>\n",
       "    </tr>\n",
       "    <tr>\n",
       "      <th>22</th>\n",
       "      <td>1.580000e+12</td>\n",
       "      <td>09.01.2020 18:06</td>\n",
       "      <td>21.746</td>\n",
       "      <td>-13.572</td>\n",
       "      <td>1.6</td>\n",
       "      <td>NaN</td>\n",
       "      <td>NaN</td>\n",
       "      <td>NaN</td>\n",
       "      <td>NaN</td>\n",
       "      <td>NaN</td>\n",
       "      <td>NaN</td>\n",
       "      <td>NaN</td>\n",
       "      <td>NaN</td>\n",
       "      <td>NaN</td>\n",
       "      <td>NaN</td>\n",
       "    </tr>\n",
       "    <tr>\n",
       "      <th>27</th>\n",
       "      <td>1.580000e+12</td>\n",
       "      <td>09.01.2020 18:06</td>\n",
       "      <td>21.654</td>\n",
       "      <td>-13.517</td>\n",
       "      <td>1.6</td>\n",
       "      <td>NaN</td>\n",
       "      <td>NaN</td>\n",
       "      <td>NaN</td>\n",
       "      <td>NaN</td>\n",
       "      <td>NaN</td>\n",
       "      <td>NaN</td>\n",
       "      <td>NaN</td>\n",
       "      <td>NaN</td>\n",
       "      <td>NaN</td>\n",
       "      <td>NaN</td>\n",
       "    </tr>\n",
       "    <tr>\n",
       "      <th>...</th>\n",
       "      <td>...</td>\n",
       "      <td>...</td>\n",
       "      <td>...</td>\n",
       "      <td>...</td>\n",
       "      <td>...</td>\n",
       "      <td>...</td>\n",
       "      <td>...</td>\n",
       "      <td>...</td>\n",
       "      <td>...</td>\n",
       "      <td>...</td>\n",
       "      <td>...</td>\n",
       "      <td>...</td>\n",
       "      <td>...</td>\n",
       "      <td>...</td>\n",
       "      <td>...</td>\n",
       "    </tr>\n",
       "    <tr>\n",
       "      <th>473449</th>\n",
       "      <td>1.580000e+12</td>\n",
       "      <td>09.01.2020 19:47</td>\n",
       "      <td>-6.638</td>\n",
       "      <td>-0.953</td>\n",
       "      <td>1.6</td>\n",
       "      <td>NaN</td>\n",
       "      <td>NaN</td>\n",
       "      <td>NaN</td>\n",
       "      <td>NaN</td>\n",
       "      <td>NaN</td>\n",
       "      <td>NaN</td>\n",
       "      <td>NaN</td>\n",
       "      <td>NaN</td>\n",
       "      <td>NaN</td>\n",
       "      <td>NaN</td>\n",
       "    </tr>\n",
       "    <tr>\n",
       "      <th>473455</th>\n",
       "      <td>1.580000e+12</td>\n",
       "      <td>09.01.2020 19:47</td>\n",
       "      <td>-6.574</td>\n",
       "      <td>-0.924</td>\n",
       "      <td>1.6</td>\n",
       "      <td>NaN</td>\n",
       "      <td>NaN</td>\n",
       "      <td>NaN</td>\n",
       "      <td>NaN</td>\n",
       "      <td>NaN</td>\n",
       "      <td>NaN</td>\n",
       "      <td>NaN</td>\n",
       "      <td>NaN</td>\n",
       "      <td>NaN</td>\n",
       "      <td>NaN</td>\n",
       "    </tr>\n",
       "    <tr>\n",
       "      <th>473460</th>\n",
       "      <td>1.580000e+12</td>\n",
       "      <td>09.01.2020 19:47</td>\n",
       "      <td>-6.514</td>\n",
       "      <td>-0.898</td>\n",
       "      <td>1.6</td>\n",
       "      <td>NaN</td>\n",
       "      <td>NaN</td>\n",
       "      <td>NaN</td>\n",
       "      <td>NaN</td>\n",
       "      <td>NaN</td>\n",
       "      <td>NaN</td>\n",
       "      <td>NaN</td>\n",
       "      <td>NaN</td>\n",
       "      <td>NaN</td>\n",
       "      <td>NaN</td>\n",
       "    </tr>\n",
       "    <tr>\n",
       "      <th>473466</th>\n",
       "      <td>1.580000e+12</td>\n",
       "      <td>09.01.2020 19:47:37.057</td>\n",
       "      <td>-6.459</td>\n",
       "      <td>-0.868</td>\n",
       "      <td>1.6</td>\n",
       "      <td>NaN</td>\n",
       "      <td>NaN</td>\n",
       "      <td>NaN</td>\n",
       "      <td>NaN</td>\n",
       "      <td>NaN</td>\n",
       "      <td>NaN</td>\n",
       "      <td>NaN</td>\n",
       "      <td>NaN</td>\n",
       "      <td>NaN</td>\n",
       "      <td>NaN</td>\n",
       "    </tr>\n",
       "    <tr>\n",
       "      <th>473472</th>\n",
       "      <td>1.580000e+12</td>\n",
       "      <td>09.01.2020 19:47</td>\n",
       "      <td>-6.403</td>\n",
       "      <td>-0.836</td>\n",
       "      <td>1.6</td>\n",
       "      <td>NaN</td>\n",
       "      <td>NaN</td>\n",
       "      <td>NaN</td>\n",
       "      <td>NaN</td>\n",
       "      <td>NaN</td>\n",
       "      <td>NaN</td>\n",
       "      <td>NaN</td>\n",
       "      <td>NaN</td>\n",
       "      <td>NaN</td>\n",
       "      <td>NaN</td>\n",
       "    </tr>\n",
       "  </tbody>\n",
       "</table>\n",
       "<p>82593 rows × 15 columns</p>\n",
       "</div>"
      ],
      "text/plain": [
       "                  ts                        t       x       y    z  acc_x  \\\n",
       "5       1.580000e+12         09.01.2020 18:06  22.020 -13.720  1.6    NaN   \n",
       "10      1.580000e+12         09.01.2020 18:06  21.927 -13.670  1.6    NaN   \n",
       "16      1.580000e+12         09.01.2020 18:06  21.837 -13.622  1.6    NaN   \n",
       "22      1.580000e+12         09.01.2020 18:06  21.746 -13.572  1.6    NaN   \n",
       "27      1.580000e+12         09.01.2020 18:06  21.654 -13.517  1.6    NaN   \n",
       "...              ...                      ...     ...     ...  ...    ...   \n",
       "473449  1.580000e+12         09.01.2020 19:47  -6.638  -0.953  1.6    NaN   \n",
       "473455  1.580000e+12         09.01.2020 19:47  -6.574  -0.924  1.6    NaN   \n",
       "473460  1.580000e+12         09.01.2020 19:47  -6.514  -0.898  1.6    NaN   \n",
       "473466  1.580000e+12  09.01.2020 19:47:37.057  -6.459  -0.868  1.6    NaN   \n",
       "473472  1.580000e+12         09.01.2020 19:47  -6.403  -0.836  1.6    NaN   \n",
       "\n",
       "        acc_y  acc_z  gyro_x  gyro_y  gyro_z  quat_1  quat_i  quat_j  quat_k  \n",
       "5         NaN    NaN     NaN     NaN     NaN     NaN     NaN     NaN     NaN  \n",
       "10        NaN    NaN     NaN     NaN     NaN     NaN     NaN     NaN     NaN  \n",
       "16        NaN    NaN     NaN     NaN     NaN     NaN     NaN     NaN     NaN  \n",
       "22        NaN    NaN     NaN     NaN     NaN     NaN     NaN     NaN     NaN  \n",
       "27        NaN    NaN     NaN     NaN     NaN     NaN     NaN     NaN     NaN  \n",
       "...       ...    ...     ...     ...     ...     ...     ...     ...     ...  \n",
       "473449    NaN    NaN     NaN     NaN     NaN     NaN     NaN     NaN     NaN  \n",
       "473455    NaN    NaN     NaN     NaN     NaN     NaN     NaN     NaN     NaN  \n",
       "473460    NaN    NaN     NaN     NaN     NaN     NaN     NaN     NaN     NaN  \n",
       "473466    NaN    NaN     NaN     NaN     NaN     NaN     NaN     NaN     NaN  \n",
       "473472    NaN    NaN     NaN     NaN     NaN     NaN     NaN     NaN     NaN  \n",
       "\n",
       "[82593 rows x 15 columns]"
      ]
     },
     "execution_count": 3,
     "metadata": {},
     "output_type": "execute_result"
    }
   ],
   "source": [
    "D = D[~np.isnan(D.x)]\n",
    "D"
   ]
  },
  {
   "cell_type": "markdown",
   "metadata": {
    "papermill": {
     "duration": 0.020208,
     "end_time": "2021-01-18T09:25:46.067195",
     "exception": false,
     "start_time": "2021-01-18T09:25:46.046987",
     "status": "completed"
    },
    "tags": []
   },
   "source": [
    "Beachte dabei, dass der Datensatz von 473.473 auf 82.593 Reihen geschrumpft ist. \n",
    "\n",
    "Als nächstes gucken wir uns die x- und y- Koordinate an (Vogelperspektive). Der Befehl plot erwartet erst die Werte für die x-Achse, danach Wertte für die y-Achse. Der Punkt (0|0) ist die Spielfeldmitte. Ein Handballfeld ist 40m lang und 20m breit, daher begrenzen wir beide Achsen. Vorab speichern wir x und y als arrays ab um besser mit ihnen rechnen zu können:"
   ]
  },
  {
   "cell_type": "code",
   "execution_count": 4,
   "metadata": {
    "execution": {
     "iopub.execute_input": "2021-01-18T09:25:46.115154Z",
     "iopub.status.busy": "2021-01-18T09:25:46.114475Z",
     "iopub.status.idle": "2021-01-18T09:25:46.367626Z",
     "shell.execute_reply": "2021-01-18T09:25:46.368148Z"
    },
    "papermill": {
     "duration": 0.280704,
     "end_time": "2021-01-18T09:25:46.368299",
     "exception": false,
     "start_time": "2021-01-18T09:25:46.087595",
     "status": "completed"
    },
    "tags": []
   },
   "outputs": [
    {
     "data": {
      "image/png": "[encoded data removed]",
      "text/plain": [
       "<Figure size 432x288 with 1 Axes>"
      ]
     },
     "metadata": {
      "needs_background": "light"
     },
     "output_type": "display_data"
    }
   ],
   "source": [
    "x=np.array(D.x)\n",
    "y=np.array(D.y)\n",
    "\n",
    "plt.plot(x,y);\n",
    "\n",
    "plt.xlim([-20,20]);\n",
    "plt.ylim([-10,10]);\n"
   ]
  },
  {
   "cell_type": "markdown",
   "metadata": {
    "papermill": {
     "duration": 0.022543,
     "end_time": "2021-01-18T09:25:46.414000",
     "exception": false,
     "start_time": "2021-01-18T09:25:46.391457",
     "status": "completed"
    },
    "tags": []
   },
   "source": [
    "# Distanz berechnen\n",
    "Wie berechnet man die Entfernung in der Ebene von einem Punkt zum Anderen? Richtig, Pythagoras ist dein Freund! Du hast zwei Punkte $ P_1 ( x_1 | y_1 ) ; P_2 ( x_2 | y_2 ) $. Nimmst du die x- und y-Komponenten beider Punkten erhältst du ein rechtwinkliges Dreieck, womit $ a^2 + b^2 = c^2 $ bzw. in unserem Fall $ \\Delta x^2 + \\Delta y^2 = s^2 $ mit $ \\Delta x = x_2 - x_1 ;\\Delta y = y_2 - y_1  $ und $ s $ der gewünschten Distanz. Es folgt: \n",
    "\n",
    "$$\n",
    "\\sqrt {\\Delta x^2 + \\Delta y^2}  = s\n",
    "$$\n",
    "\n",
    "Zunächst schauen wir uns eine beliebige Strecke an und definieren zwei beliebige Datenpunkte in `I`. Daraufhin berechnen wir $ dx $ , $ dy $ und anschließend $ s $."
   ]
  },
  {
   "cell_type": "code",
   "execution_count": 5,
   "metadata": {
    "execution": {
     "iopub.execute_input": "2021-01-18T09:25:46.473672Z",
     "iopub.status.busy": "2021-01-18T09:25:46.466112Z",
     "iopub.status.idle": "2021-01-18T09:25:46.621207Z",
     "shell.execute_reply": "2021-01-18T09:25:46.620532Z"
    },
    "papermill": {
     "duration": 0.184647,
     "end_time": "2021-01-18T09:25:46.621398",
     "exception": false,
     "start_time": "2021-01-18T09:25:46.436751",
     "status": "completed"
    },
    "tags": []
   },
   "outputs": [
    {
     "data": {
      "image/png": "[encoded data removed]",
      "text/plain": [
       "<Figure size 432x288 with 1 Axes>"
      ]
     },
     "metadata": {
      "needs_background": "light"
     },
     "output_type": "display_data"
    }
   ],
   "source": [
    "I=[100,200]\n",
    "plt.plot(x[I],y[I]);\n",
    "\n",
    "plt.xlim([-20,20]);\n",
    "plt.ylim([-10,10]);"
   ]
  },
  {
   "cell_type": "code",
   "execution_count": 6,
   "metadata": {
    "_kg_hide-input": true,
    "execution": {
     "iopub.execute_input": "2021-01-18T09:25:46.685660Z",
     "iopub.status.busy": "2021-01-18T09:25:46.677706Z",
     "iopub.status.idle": "2021-01-18T09:25:46.822106Z",
     "shell.execute_reply": "2021-01-18T09:25:46.821417Z"
    },
    "papermill": {
     "duration": 0.176981,
     "end_time": "2021-01-18T09:25:46.822224",
     "exception": false,
     "start_time": "2021-01-18T09:25:46.645243",
     "status": "completed"
    },
    "tags": []
   },
   "outputs": [
    {
     "data": {
      "image/png": "[encoded data removed]",
      "text/plain": [
       "<Figure size 432x288 with 1 Axes>"
      ]
     },
     "metadata": {
      "needs_background": "light"
     },
     "output_type": "display_data"
    }
   ],
   "source": [
    "X=x[I]\n",
    "xconst=X.copy();\n",
    "xconst[0]=xconst[1];\n",
    "Y=y[I]\n",
    "yconst=Y.copy();\n",
    "yconst[1]=yconst[0];\n",
    "\n",
    "\n",
    "plt.figure();\n",
    "plt.plot(x[I],y[I]);\n",
    "plt.plot(X,yconst,'g',xconst,Y,'g');"
   ]
  },
  {
   "cell_type": "code",
   "execution_count": 7,
   "metadata": {
    "execution": {
     "iopub.execute_input": "2021-01-18T09:25:46.878653Z",
     "iopub.status.busy": "2021-01-18T09:25:46.877869Z",
     "iopub.status.idle": "2021-01-18T09:25:46.881484Z",
     "shell.execute_reply": "2021-01-18T09:25:46.880909Z"
    },
    "papermill": {
     "duration": 0.034531,
     "end_time": "2021-01-18T09:25:46.881608",
     "exception": false,
     "start_time": "2021-01-18T09:25:46.847077",
     "status": "completed"
    },
    "tags": []
   },
   "outputs": [],
   "source": [
    "dx=np.diff(x[I])\n",
    "dy=np.diff(y[I])\n",
    "\n",
    "s=np.sqrt(dx**2+dy**2)"
   ]
  },
  {
   "cell_type": "code",
   "execution_count": 8,
   "metadata": {
    "_kg_hide-input": true,
    "execution": {
     "iopub.execute_input": "2021-01-18T09:25:46.939331Z",
     "iopub.status.busy": "2021-01-18T09:25:46.938632Z",
     "iopub.status.idle": "2021-01-18T09:25:46.944275Z",
     "shell.execute_reply": "2021-01-18T09:25:46.945022Z"
    },
    "papermill": {
     "duration": 0.038388,
     "end_time": "2021-01-18T09:25:46.945238",
     "exception": false,
     "start_time": "2021-01-18T09:25:46.906850",
     "status": "completed"
    },
    "tags": []
   },
   "outputs": [
    {
     "name": "stdout",
     "output_type": "stream",
     "text": [
      "x1 = 15.539000000000001\n",
      "x2 = 10.253\n",
      "y1 = -5.5120000000000005\n",
      "y2 = 0.49\n",
      "dx =  -5.286000000000001\n",
      "dy =  6.002000000000001\n",
      "s = sqrt ( dx² + dy²) = 7.9978622143670375\n"
     ]
    }
   ],
   "source": [
    "print('x1 =',x[I][0])\n",
    "print('x2 =',x[I][1])\n",
    "print('y1 =',y[I][0])\n",
    "print('y2 =',y[I][1])\n",
    "\n",
    "\n",
    "print('dx = ', dx[0])\n",
    "print('dy = ', dy[0])\n",
    "\n",
    "print('s = sqrt ( dx² + dy²) =', s[0])"
   ]
  },
  {
   "cell_type": "markdown",
   "metadata": {
    "papermill": {
     "duration": 0.02509,
     "end_time": "2021-01-18T09:25:46.997587",
     "exception": false,
     "start_time": "2021-01-18T09:25:46.972497",
     "status": "completed"
    },
    "tags": []
   },
   "source": [
    "Numpy macht das Rechnen mit Vektoren einfach. Unsere vorab bestimmten x- und y-Koordinaten haben wir als einzelne Spalten extrahiert und so im n x 1 (Reihe x Spalte) - Vektorenformat. Wir können nun unsere Rechnung einfach übertragen und die Differenz von einer Koordinate zur nächsten berechnen - und die Distanz! Wir schauen uns die Gesamtdistanz und die entlang der aufgenommenen Daten kumulierte Distanz  mit `cumsum` ( = cumulative sum - ja, das ist ein wirklich bescheiden gewählter Name...) an. "
   ]
  },
  {
   "cell_type": "code",
   "execution_count": 9,
   "metadata": {
    "execution": {
     "iopub.execute_input": "2021-01-18T09:25:47.057023Z",
     "iopub.status.busy": "2021-01-18T09:25:47.056305Z",
     "iopub.status.idle": "2021-01-18T09:25:47.244195Z",
     "shell.execute_reply": "2021-01-18T09:25:47.243649Z"
    },
    "papermill": {
     "duration": 0.220267,
     "end_time": "2021-01-18T09:25:47.244313",
     "exception": false,
     "start_time": "2021-01-18T09:25:47.024046",
     "status": "completed"
    },
    "tags": []
   },
   "outputs": [
    {
     "name": "stdout",
     "output_type": "stream",
     "text": [
      "Total Distance =  5093.891660347032 m\n"
     ]
    },
    {
     "data": {
      "image/png": "[encoded data removed]",
      "text/plain": [
       "<Figure size 432x288 with 1 Axes>"
      ]
     },
     "metadata": {
      "needs_background": "light"
     },
     "output_type": "display_data"
    }
   ],
   "source": [
    "dx=np.diff(x)\n",
    "dy=np.diff(y)\n",
    "ds=np.sqrt(dx**2+dy**2)\n",
    "\n",
    "plt.plot(np.cumsum(ds));\n",
    "print('Total Distance = ',sum(ds), 'm')"
   ]
  },
  {
   "cell_type": "markdown",
   "metadata": {
    "papermill": {
     "duration": 0.029064,
     "end_time": "2021-01-18T09:25:47.300185",
     "exception": false,
     "start_time": "2021-01-18T09:25:47.271121",
     "status": "completed"
    },
    "tags": []
   },
   "source": [
    "# Geschwindigkeit berechnen\n",
    "Geschwindigkeit definiert sich durch die zurückgelegte Distanz pro Zeiteinheit - hier in der Einheit Meter pro Sekunde [m/s]. Somit gilt $ v = \\Delta s / \\Delta t $. Wir haben $ \\Delta s $; $\\Delta t $ ergibt sich aus der sampling rate. In diesem Fall erhalten wir 15.15 Werte pro Sekunde:"
   ]
  },
  {
   "cell_type": "code",
   "execution_count": 10,
   "metadata": {
    "execution": {
     "iopub.execute_input": "2021-01-18T09:25:47.365181Z",
     "iopub.status.busy": "2021-01-18T09:25:47.360580Z",
     "iopub.status.idle": "2021-01-18T09:25:47.516671Z",
     "shell.execute_reply": "2021-01-18T09:25:47.517366Z"
    },
    "papermill": {
     "duration": 0.19009,
     "end_time": "2021-01-18T09:25:47.517572",
     "exception": false,
     "start_time": "2021-01-18T09:25:47.327482",
     "status": "completed"
    },
    "tags": []
   },
   "outputs": [
    {
     "data": {
      "image/png": "[encoded data removed]",
      "text/plain": [
       "<Figure size 432x288 with 1 Axes>"
      ]
     },
     "metadata": {
      "needs_background": "light"
     },
     "output_type": "display_data"
    }
   ],
   "source": [
    "ts=1/15.15\n",
    "v=ds/ts\n",
    "\n",
    "plt.plot(v);\n",
    "plt.ylim(0,50);"
   ]
  },
  {
   "cell_type": "markdown",
   "metadata": {
    "papermill": {
     "duration": 0.028218,
     "end_time": "2021-01-18T09:25:47.573998",
     "exception": false,
     "start_time": "2021-01-18T09:25:47.545780",
     "status": "completed"
    },
    "tags": []
   },
   "source": [
    "# Tiefpassfilter\n",
    "10 m/s entsprechen 36 km/h - das ist in etwa die Grenze plausibler Werte. Durch Messartefakte kommen hier teilweise höhere Werte zustande. Wir wenden einen Tiefpassfilter an. Wir gehen dabei nicht auf die Details ein. Mit nur ein paar Zeilen an Code können wir die meisten Artefakte eliminieren:"
   ]
  },
  {
   "cell_type": "code",
   "execution_count": 11,
   "metadata": {
    "execution": {
     "iopub.execute_input": "2021-01-18T09:25:47.639079Z",
     "iopub.status.busy": "2021-01-18T09:25:47.638101Z",
     "iopub.status.idle": "2021-01-18T09:25:47.834201Z",
     "shell.execute_reply": "2021-01-18T09:25:47.834709Z"
    },
    "papermill": {
     "duration": 0.231468,
     "end_time": "2021-01-18T09:25:47.834863",
     "exception": false,
     "start_time": "2021-01-18T09:25:47.603395",
     "status": "completed"
    },
    "tags": []
   },
   "outputs": [
    {
     "data": {
      "image/png": "[encoded data removed]",
      "text/plain": [
       "<Figure size 432x288 with 1 Axes>"
      ]
     },
     "metadata": {
      "needs_background": "light"
     },
     "output_type": "display_data"
    }
   ],
   "source": [
    "fs=1/ts\n",
    "fc=0.5\n",
    "Wn=fc/(fs/2)\n",
    "\n",
    "m, n = signal.butter(3,Wn)\n",
    "vf = signal.filtfilt(m, n, v)\n",
    "\n",
    "plt.plot(v);\n",
    "plt.plot(vf);\n",
    "plt.ylim(0,50);"
   ]
  },
  {
   "cell_type": "markdown",
   "metadata": {
    "papermill": {
     "duration": 0.028185,
     "end_time": "2021-01-18T09:25:47.891823",
     "exception": false,
     "start_time": "2021-01-18T09:25:47.863638",
     "status": "completed"
    },
    "tags": []
   },
   "source": [
    "Der letzte Ausreißer entsteht durch die Halbzeitpause, in der eine Datenlücke entstanden ist. Um das Problem zu beheben setzen wir unelegant die Obergrenze der Geschwindigkeit auf 10 m/s fest:"
   ]
  },
  {
   "cell_type": "code",
   "execution_count": 12,
   "metadata": {
    "execution": {
     "iopub.execute_input": "2021-01-18T09:25:47.954924Z",
     "iopub.status.busy": "2021-01-18T09:25:47.954131Z",
     "iopub.status.idle": "2021-01-18T09:25:48.162291Z",
     "shell.execute_reply": "2021-01-18T09:25:48.161691Z"
    },
    "papermill": {
     "duration": 0.242301,
     "end_time": "2021-01-18T09:25:48.162425",
     "exception": false,
     "start_time": "2021-01-18T09:25:47.920124",
     "status": "completed"
    },
    "tags": []
   },
   "outputs": [
    {
     "data": {
      "image/png": "[encoded data removed]",
      "text/plain": [
       "<Figure size 432x288 with 1 Axes>"
      ]
     },
     "metadata": {
      "needs_background": "light"
     },
     "output_type": "display_data"
    }
   ],
   "source": [
    "vf[vf>10]=10\n",
    "\n",
    "plt.plot(v);\n",
    "plt.plot(vf);\n",
    "plt.ylim(0,50);"
   ]
  },
  {
   "cell_type": "markdown",
   "metadata": {
    "papermill": {
     "duration": 0.029642,
     "end_time": "2021-01-18T09:25:48.221925",
     "exception": false,
     "start_time": "2021-01-18T09:25:48.192283",
     "status": "completed"
    },
    "tags": []
   },
   "source": [
    "# Beschleunigung\n",
    "Beschleunigung ist Geschwindigkeitsänderung pro Zeiteinheit - $ \\Delta v / \\Delta s = a $. Nichts neues, wir filtern direkt und setzen das Maximum betragsmäßig auf 5 m/s² fest:"
   ]
  },
  {
   "cell_type": "code",
   "execution_count": 13,
   "metadata": {
    "execution": {
     "iopub.execute_input": "2021-01-18T09:25:48.294895Z",
     "iopub.status.busy": "2021-01-18T09:25:48.294117Z",
     "iopub.status.idle": "2021-01-18T09:25:48.602121Z",
     "shell.execute_reply": "2021-01-18T09:25:48.601453Z"
    },
    "papermill": {
     "duration": 0.350389,
     "end_time": "2021-01-18T09:25:48.602252",
     "exception": false,
     "start_time": "2021-01-18T09:25:48.251863",
     "status": "completed"
    },
    "tags": []
   },
   "outputs": [
    {
     "data": {
      "image/png": "[encoded data removed]",
      "text/plain": [
       "<Figure size 432x288 with 1 Axes>"
      ]
     },
     "metadata": {
      "needs_background": "light"
     },
     "output_type": "display_data"
    },
    {
     "data": {
      "image/png": "[encoded data removed]",
      "text/plain": [
       "<Figure size 432x288 with 1 Axes>"
      ]
     },
     "metadata": {
      "needs_background": "light"
     },
     "output_type": "display_data"
    }
   ],
   "source": [
    "a=np.diff(vf)/ts\n",
    "af=signal.filtfilt(m, n, a)\n",
    "\n",
    "\n",
    "plt.plot(af);\n",
    "\n",
    "af[abs(af)>5]=5\n",
    "plt.figure();\n",
    "plt.plot(af);\n"
   ]
  },
  {
   "cell_type": "markdown",
   "metadata": {
    "papermill": {
     "duration": 0.030683,
     "end_time": "2021-01-18T09:25:48.664172",
     "exception": false,
     "start_time": "2021-01-18T09:25:48.633489",
     "status": "completed"
    },
    "tags": []
   },
   "source": [
    "# Geschwindigkeitszonen\n",
    "\n"
   ]
  },
  {
   "cell_type": "code",
   "execution_count": null,
   "metadata": {
    "papermill": {
     "duration": 0.031637,
     "end_time": "2021-01-18T09:25:48.726972",
     "exception": false,
     "start_time": "2021-01-18T09:25:48.695335",
     "status": "completed"
    },
    "tags": []
   },
   "outputs": [],
   "source": []
  },
  {
   "cell_type": "code",
   "execution_count": null,
   "metadata": {
    "papermill": {
     "duration": 0.031466,
     "end_time": "2021-01-18T09:25:48.789670",
     "exception": false,
     "start_time": "2021-01-18T09:25:48.758204",
     "status": "completed"
    },
    "tags": []
   },
   "outputs": [],
   "source": [
    "\n",
    "\n"
   ]
  },
  {
   "cell_type": "markdown",
   "metadata": {
    "papermill": {
     "duration": 0.03081,
     "end_time": "2021-01-18T09:25:48.852499",
     "exception": false,
     "start_time": "2021-01-18T09:25:48.821689",
     "status": "completed"
    },
    "tags": []
   },
   "source": [
    "# Metabolic Power\n",
    "Der Energieverbrauch bei konstanten Laufgeschwindigkeiten auf derselben Distanz ist gleich - ein Mehrverbrauch an Energie entsteht durch Geschwindigkeitsvariation (Beschleunigungen). Mit der Formel von Osgnach und di Prampero lässt sich der spontane Energieverbrauch (vergleichbar mit der Energiebereitstellung durch ATP auf Molekularebene) durch Geschwindigkeit UND Beschleunigung abschätzen. Verglichen wird beschleunigtes / entschleunigtes Laufen mit Bergauf- / Bergabläufen - dabei wird die Beschleunigung in einem biomechanischen Vergleich einer Steigung gleichgesetzt und als `Equivalent Slope (ES)` ausgedrückt. Die Energiekosten für konstantes Laufen (Beschleunigung gleich Null) werden in diesem Beispiel mit $ EC_0 = 4.35  J kg^-1 m^-1 $ angesetzt. Wir setzen unsere Werte in die Formel ein und berechnen die Energiekosten pro Wegeinheit $ EC_r [J * kg^-1 * m^-1] $ und die Energiekosten pro Zeiteinheit  - die Metabolic Power in der Einheit  $ J  * s^-1 * kg^-1 $ oder $ W * kg^-1 $:\n",
    "\n",
    "\n",
    "$$\n",
    "EC_r= 155.4 * ES^5 - 30.4 * ES^4 - 43.3 * ES^3 + 46.3 * ES^2 + 19.5 * ES + EC_0 ) * EM\n",
    "$$\n",
    "\n",
    "$$\n",
    "EM= ( ( a^2 / g^2 ) +1 )^{0.5} \n",
    "$$\n",
    "\n",
    "\n",
    "\n",
    "\n"
   ]
  },
  {
   "cell_type": "code",
   "execution_count": 14,
   "metadata": {
    "execution": {
     "iopub.execute_input": "2021-01-18T09:25:48.923848Z",
     "iopub.status.busy": "2021-01-18T09:25:48.922859Z",
     "iopub.status.idle": "2021-01-18T09:25:49.103745Z",
     "shell.execute_reply": "2021-01-18T09:25:49.103179Z"
    },
    "papermill": {
     "duration": 0.220245,
     "end_time": "2021-01-18T09:25:49.103910",
     "exception": false,
     "start_time": "2021-01-18T09:25:48.883665",
     "status": "completed"
    },
    "tags": []
   },
   "outputs": [
    {
     "data": {
      "image/png": "[encoded data removed]",
      "text/plain": [
       "<Figure size 432x288 with 1 Axes>"
      ]
     },
     "metadata": {
      "needs_background": "light"
     },
     "output_type": "display_data"
    }
   ],
   "source": [
    "vf=np.delete(vf,0)\n",
    "g = 9.81\n",
    "EC = 4.35\n",
    "ES = af / g\n",
    "\n",
    "EM = ( ( af**2 / g**2 ) + 1)**(0.5) \n",
    "\n",
    "ECr = (155.4 * ES**5 - 30.4 * ES**4 - 43.3 * ES**3 + 46.3 * ES**2 + 19.5 * ES + EC ) * EM\n",
    "\n",
    "MP = ECr * vf\n",
    "\n",
    "plt.plot(MP);\n"
   ]
  },
  {
   "cell_type": "markdown",
   "metadata": {
    "papermill": {
     "duration": 0.031513,
     "end_time": "2021-01-18T09:25:49.169523",
     "exception": false,
     "start_time": "2021-01-18T09:25:49.138010",
     "status": "completed"
    },
    "tags": []
   },
   "source": [
    "Noch nicht ganz sauber, die Halbzeitpause ärgert uns hier schon wieder! Lassen wir es hier aber mal gut sein für's Erste ..."
   ]
  },
  {
   "cell_type": "markdown",
   "metadata": {
    "papermill": {
     "duration": 0.032265,
     "end_time": "2021-01-18T09:25:49.233799",
     "exception": false,
     "start_time": "2021-01-18T09:25:49.201534",
     "status": "completed"
    },
    "tags": []
   },
   "source": [
    "# Fazit\n",
    "Du kannst mit diesem Code eine einzelne Datei bearbeiten und dir Parameter wie Gesamtdistanz, Distanz in Geschwindigkeitszonen, Energieverbrauch für eine Trainingseinheit, -sequenz, ein Spiel etc. berechnen. Natürlich können weitere Funktionen ergänzt werden. Es gibt aber noch mehr zu tun: Im Monitoring verschaffst du dir einen Überblick über mehrere Einheiten und versuchst diese im Längsschnitt zu interpretieren. Auch dieser Prozess lässt sich automatisieren. Warum das Ganze nicht per Hand in Excel berechnen? Der Vorteil liegt hier auf der Hand: Der geschriebene Code lässt sich durch ein paar Zeilen ergänzen und kann auf beliebig viele Dateien angewendet werden - Zeitersparnis hoch zehn! Mehr Zeit zum Nachdenken und interpretieren der Daten!"
   ]
  }
 ],
 "metadata": {
  "kernelspec": {
   "display_name": "Python 3",
   "language": "python",
   "name": "python3"
  },
  "language_info": {
   "codemirror_mode": {
    "name": "ipython",
    "version": 3
   },
   "file_extension": ".py",
   "mimetype": "text/x-python",
   "name": "python",
   "nbconvert_exporter": "python",
   "pygments_lexer": "ipython3",
   "version": "3.7.6"
  },
  "papermill": {
   "duration": 11.293693,
   "end_time": "2021-01-18T09:25:49.375463",
   "environment_variables": {},
   "exception": null,
   "input_path": "__notebook__.ipynb",
   "output_path": "__notebook__.ipynb",
   "parameters": {},
   "start_time": "2021-01-18T09:25:38.081770",
   "version": "2.1.0"
  }
 },
 "nbformat": 4,
 "nbformat_minor": 4
}
