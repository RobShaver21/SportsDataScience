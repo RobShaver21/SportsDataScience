{
 "cells": [
  {
   "cell_type": "markdown",
   "metadata": {
    "papermill": {
     "duration": 0.03654,
     "end_time": "2021-05-19T22:34:47.227807",
     "exception": false,
     "start_time": "2021-05-19T22:34:47.191267",
     "status": "completed"
    },
    "tags": []
   },
   "source": [
    "<div>\n",
    "    <h1>Table Of Content</h1>\n",
    "    <ul class=\"table_of_contents\" style=\"list-style:none;\">\n",
    "        <li>\n",
    "            <a href=\"#Beginner\" style=\"padding:5px; font-size: 20px;\"><b>Beginner<b></a>\n",
    "            <ul style=\"list-style:none;\">\n",
    "                <li><a href=\"#b_linear_int\" style=\"padding:5px; font-size: 17px;\">Linear Interpolation</a></li>\n",
    "                <li><a href=\"#b_train_zone\" style=\"padding:5px; font-size: 17px;\">Training Zones</a></li>\n",
    "            </ul>\n",
    "        </li>\n",
    "        <li>\n",
    "            <a href=\"#Intermediate\" style=\"padding:5px; font-size: 20px;\"><b>Intermediate<b></a>\n",
    "            <ul style=\"list-style:none;\">\n",
    "                <li><a href=\"#i_load_data\" style=\"padding:5px; font-size: 17px;\">Load Data</a></li>\n",
    "                <li><a href=\"#i_filter_data\" style=\"padding:5px; font-size: 17px;\">Filter Data</a></li>\n",
    "                <li><a href=\"#i_linear_int\" style=\"padding:5px; font-size: 17px;\">Linear Interpolation</a></li>\n",
    "            </ul>\n",
    "        </li>\n",
    "        <li>\n",
    "            <a href=\"#Advanced\" style=\"padding:5px; font-size: 20px;\"><b>Advanced<b></a>\n",
    "            <ul style=\"list-style:none;\">\n",
    "                <li><a href=\"#a_exponential_fit_via_lm\" style=\"padding:5px; font-size: 17px;\">exponential fit via lm</a></li>\n",
    "                <li><a href=\"#a_exponential_fit_with_scipy\" style=\"padding:5px; font-size: 17px;\">exponential fit with scipy</a></li>\n",
    "                <li><a href=\"#a_ipywidgets\" style=\"padding:5px; font-size: 17px;\">ipywidgets</a></li>\n",
    "                <li><a href=\"#a_cubic_fit\" style=\"padding:5px; font-size: 17px;\">cubic fit</a></li>\n",
    "            </ul>\n",
    "        </li>        \n",
    "    </ul>\n",
    "</div>"
   ]
  },
  {
   "cell_type": "markdown",
   "metadata": {
    "papermill": {
     "duration": 0.046014,
     "end_time": "2021-05-19T22:34:47.317891",
     "exception": false,
     "start_time": "2021-05-19T22:34:47.271877",
     "status": "completed"
    },
    "tags": []
   },
   "source": [
    "# Lactate Thresholds\n",
    "In this notebook we explain how you can analyze your data from an incremental exercise test. We show you, how to obtain submaximal lactate thresholds and how to derive training recommendations, eg velocity and heart rate zones. We first give you some information about the theoretical background. Then, we start with a beginner-friendly example. We progress with a more general approach on an intermediate level. Lastly, we show you more advanced techniques that lead us to different threshold concepts (there are many of them!).\n",
    "Let´s import some basic libraries:"
   ]
  },
  {
   "cell_type": "code",
   "execution_count": 1,
   "metadata": {
    "execution": {
     "iopub.execute_input": "2021-05-19T22:34:47.406653Z",
     "iopub.status.busy": "2021-05-19T22:34:47.406017Z",
     "iopub.status.idle": "2021-05-19T22:34:47.408988Z",
     "shell.execute_reply": "2021-05-19T22:34:47.408276Z"
    },
    "papermill": {
     "duration": 0.049774,
     "end_time": "2021-05-19T22:34:47.409264",
     "exception": false,
     "start_time": "2021-05-19T22:34:47.359490",
     "status": "completed"
    },
    "tags": []
   },
   "outputs": [],
   "source": [
    "import numpy as np                # linear algebra\n",
    "import pandas as pd               # data processing\n",
    "import matplotlib.pyplot as plt   # plotting"
   ]
  },
  {
   "cell_type": "markdown",
   "metadata": {
    "papermill": {
     "duration": 0.035627,
     "end_time": "2021-05-19T22:34:47.481584",
     "exception": false,
     "start_time": "2021-05-19T22:34:47.445957",
     "status": "completed"
    },
    "tags": []
   },
   "source": [
    "## Theoretical Background\n",
    "..."
   ]
  },
  {
   "cell_type": "markdown",
   "metadata": {
    "papermill": {
     "duration": 0.036348,
     "end_time": "2021-05-19T22:34:47.554761",
     "exception": false,
     "start_time": "2021-05-19T22:34:47.518413",
     "status": "completed"
    },
    "tags": []
   },
   "source": [
    "<a id=\"Beginner\"></a>\n",
    "<h1>First example: Beginner Level</h1>\n",
    "\n",
    "We got data from an incremental test on a treadmill, starting at 2 m/s and increments by 0.4 m/s per stage; stage length is 4 min. We measured blood lactate and heart rate at the end of each stage:"
   ]
  },
  {
   "cell_type": "code",
   "execution_count": 3,
   "metadata": {
    "execution": {
     "iopub.execute_input": "2021-05-19T22:34:47.630171Z",
     "iopub.status.busy": "2021-05-19T22:34:47.629462Z",
     "iopub.status.idle": "2021-05-19T22:34:47.633951Z",
     "shell.execute_reply": "2021-05-19T22:34:47.634466Z"
    },
    "papermill": {
     "duration": 0.043877,
     "end_time": "2021-05-19T22:34:47.634659",
     "exception": false,
     "start_time": "2021-05-19T22:34:47.590782",
     "status": "completed"
    },
    "tags": []
   },
   "outputs": [],
   "source": [
    "# incremental test data\n",
    "stage = [2, 2.4, 2.8, 3.2, 3.6, 4.0, 4.4]            # velocity in m/s\n",
    "lactate = [1.8, 1.75, 1.98, 2.54, 3.46, 6.38, 14.37] # lactate in mmol/l\n",
    "HR = [95, 108, 131, 152, 174, 185, 192]              # heart rate in bpm"
   ]
  },
  {
   "cell_type": "markdown",
   "metadata": {
    "papermill": {
     "duration": 0.035646,
     "end_time": "2021-05-19T22:34:47.706019",
     "exception": false,
     "start_time": "2021-05-19T22:34:47.670373",
     "status": "completed"
    },
    "tags": []
   },
   "source": [
    "<a id=\"b_linear_int\"></a>\n",
    "## Fixed Threshold - Linear Interpolation\n",
    "We want to know the speed at a fixed threshold of 4 mmol. You could obtain that threshold graphically by drawing a vertical line at 4 mmol in this simple line plot:"
   ]
  },
  {
   "cell_type": "code",
   "execution_count": 4,
   "metadata": {
    "_kg_hide-input": true,
    "execution": {
     "iopub.execute_input": "2021-05-19T22:34:47.781048Z",
     "iopub.status.busy": "2021-05-19T22:34:47.780423Z",
     "iopub.status.idle": "2021-05-19T22:34:48.109616Z",
     "shell.execute_reply": "2021-05-19T22:34:48.110122Z"
    },
    "papermill": {
     "duration": 0.368453,
     "end_time": "2021-05-19T22:34:48.110292",
     "exception": false,
     "start_time": "2021-05-19T22:34:47.741839",
     "status": "completed"
    },
    "tags": []
   },
   "outputs": [
    {
     "data": {
      "image/png": "[encoded data removed]",
      "text/plain": [
       "<Figure size 1296x576 with 2 Axes>"
      ]
     },
     "metadata": {
      "needs_background": "light"
     },
     "output_type": "display_data"
    }
   ],
   "source": [
    "from pylab import rcParams\n",
    "\n",
    "# change size of all figures in this notebook\n",
    "rcParams['figure.figsize'] = 18, 8\n",
    "\n",
    "def plot_increment(stage,lactate,HR):\n",
    "    # create plot with two y-axes\n",
    "    fig, ax1 = plt.subplots()\n",
    "\n",
    "    ax2 = ax1.twinx()\n",
    "    ax1.plot(stage, lactate, 'r-o')\n",
    "    ax2.plot(stage, HR, 'b-o')\n",
    "\n",
    "    # set labels\n",
    "    ax1.set_xlabel('Stage [m/s]')\n",
    "    ax1.set_ylabel('Lactate [mmol/l]', color='r')\n",
    "    ax2.set_ylabel('Heart Rate [bpm]', color='b')\n",
    "\n",
    "    # adjust axes limits for better visualisation in this example\n",
    "    ax1.set_ylim(0, 18)\n",
    "    ax2.set_ylim(40, 200)\n",
    "    \n",
    "    return ax1\n",
    "\n",
    "    \n",
    "ax1 = plot_increment(stage,lactate,HR)  \n",
    "\n",
    "# draw vertical line at 4 mmol\n",
    "\n",
    "v4 = np.interp(4, lactate, stage)\n",
    "\n",
    "ax1.vlines(x=v4,ymin=0,ymax=4,linewidth=2, color='black', linestyle='dashed')\n",
    "ax1.hlines(y=4, xmin=2, xmax=v4, linewidth=2, color='black',linestyle='dashed')\n",
    "\n",
    "# add label\n",
    "ax1.text(v4 + 0.1, 1, f\"v4 = {round(v4,2)} m/s\", fontsize=15)\n",
    "\n",
    "plt.show()"
   ]
  },
  {
   "cell_type": "markdown",
   "metadata": {
    "papermill": {
     "duration": 0.036472,
     "end_time": "2021-05-19T22:34:48.184692",
     "exception": false,
     "start_time": "2021-05-19T22:34:48.148220",
     "status": "completed"
    },
    "tags": []
   },
   "source": [
    "### Linear interpolation\n",
    "You can easily do the maths using two points on the lactate curve: the one before and the one after 4 mmol. And you need the corresponding speed. You can use the following formula that is just derived by linear interpolation, which is just the rule of three (German: Dreisatz). Starting from the point before 4 mmol you want to increase the corresponding speed value as much as you need to increase your lactate value proportionally. For that, you multiply the slope $ \\frac{\\Delta{v}}{\\Delta{L}} = \\frac{v_2 - v_1}{L_2 - L_1} $ between the two points with the amount of Lactate $ (4 - L_1) $ you need to go up and add this to the speed of the lower stage $ v_1 $:\n",
    "\n",
    "$$ v_{4mmol} = v_1 + (4 - L_1) * \\frac{v_2 - v_1}{L_2 - L_1}  $$\n",
    "\n",
    "![Linear Interpolation](https://matthew-brett.github.io/teaching/_images/linear_interpolation-1.png)\n",
    "\n",
    "from: https://matthew-brett.github.io/teaching/_images/linear_interpolation-1.png"
   ]
  },
  {
   "cell_type": "markdown",
   "metadata": {
    "papermill": {
     "duration": 0.036868,
     "end_time": "2021-05-19T22:34:48.258661",
     "exception": false,
     "start_time": "2021-05-19T22:34:48.221793",
     "status": "completed"
    },
    "tags": []
   },
   "source": [
    "By observing the graph above, we can see, that the threshold is somewhere between the 5th and 6th datapoint. Since we start counting from 0, the datapoints are:<br> <code>lactate[4]</code> to <code>lactate[5]</code> and <br>  <code>stage[4]</code> to <code>stage[5]</code>"
   ]
  },
  {
   "cell_type": "code",
   "execution_count": 5,
   "metadata": {
    "execution": {
     "iopub.execute_input": "2021-05-19T22:34:48.336647Z",
     "iopub.status.busy": "2021-05-19T22:34:48.335620Z",
     "iopub.status.idle": "2021-05-19T22:34:48.342807Z",
     "shell.execute_reply": "2021-05-19T22:34:48.343464Z"
    },
    "papermill": {
     "duration": 0.047559,
     "end_time": "2021-05-19T22:34:48.343662",
     "exception": false,
     "start_time": "2021-05-19T22:34:48.296103",
     "status": "completed"
    },
    "tags": []
   },
   "outputs": [
    {
     "name": "stdout",
     "output_type": "stream",
     "text": [
      "Velocity at 4 mmol: 3.67 m/s\n"
     ]
    }
   ],
   "source": [
    "L1 = lactate [4]\n",
    "L2 = lactate [5]\n",
    "v1 = stage [4]\n",
    "v2 = stage [5]\n",
    "\n",
    "v4 = v1 + (4 - L1) *  (v2 - v1) / (L2- L1)\n",
    "print(f\"Velocity at 4 mmol: {round(v4,2)} m/s\")"
   ]
  },
  {
   "cell_type": "markdown",
   "metadata": {
    "papermill": {
     "duration": 0.037416,
     "end_time": "2021-05-19T22:34:48.418866",
     "exception": false,
     "start_time": "2021-05-19T22:34:48.381450",
     "status": "completed"
    },
    "tags": []
   },
   "source": [
    "### Interpolation with numpy\n",
    "If you like, you can save some lines of code by inserting eg `lactate [4]` into the formula directly. You could do the math with paper and pencil or in your head or in a spreadsheet. However, we actually use Python and - of course - there is a built-in function for linear interpolation in the`numpy` package:"
   ]
  },
  {
   "cell_type": "code",
   "execution_count": 6,
   "metadata": {
    "execution": {
     "iopub.execute_input": "2021-05-19T22:34:48.499860Z",
     "iopub.status.busy": "2021-05-19T22:34:48.499181Z",
     "iopub.status.idle": "2021-05-19T22:34:48.502091Z",
     "shell.execute_reply": "2021-05-19T22:34:48.502652Z"
    },
    "papermill": {
     "duration": 0.04617,
     "end_time": "2021-05-19T22:34:48.502822",
     "exception": false,
     "start_time": "2021-05-19T22:34:48.456652",
     "status": "completed"
    },
    "tags": []
   },
   "outputs": [
    {
     "data": {
      "text/plain": [
       "3.673972602739726"
      ]
     },
     "execution_count": 6,
     "metadata": {},
     "output_type": "execute_result"
    }
   ],
   "source": [
    "np.interp(4, lactate, stage)"
   ]
  },
  {
   "cell_type": "markdown",
   "metadata": {
    "papermill": {
     "duration": 0.037998,
     "end_time": "2021-05-19T22:34:48.578833",
     "exception": false,
     "start_time": "2021-05-19T22:34:48.540835",
     "status": "completed"
    },
    "tags": []
   },
   "source": [
    "<a id=\"b_train_zone\"></a>\n",
    "### Training Zones\n",
    "We can even pass multiple values to this function, which makes our lives easier to calculate training zones, eg the velocities or heart rates at 2 and 4 mmol building a 3 zone model:"
   ]
  },
  {
   "cell_type": "code",
   "execution_count": 7,
   "metadata": {
    "execution": {
     "iopub.execute_input": "2021-05-19T22:34:48.658110Z",
     "iopub.status.busy": "2021-05-19T22:34:48.657445Z",
     "iopub.status.idle": "2021-05-19T22:34:48.662694Z",
     "shell.execute_reply": "2021-05-19T22:34:48.663199Z"
    },
    "papermill": {
     "duration": 0.046601,
     "end_time": "2021-05-19T22:34:48.663370",
     "exception": false,
     "start_time": "2021-05-19T22:34:48.616769",
     "status": "completed"
    },
    "tags": []
   },
   "outputs": [
    {
     "data": {
      "text/plain": [
       "array([2.81428571, 3.6739726 ])"
      ]
     },
     "execution_count": 7,
     "metadata": {},
     "output_type": "execute_result"
    }
   ],
   "source": [
    "np.interp([2, 4], lactate, stage)"
   ]
  },
  {
   "cell_type": "code",
   "execution_count": 8,
   "metadata": {
    "execution": {
     "iopub.execute_input": "2021-05-19T22:34:48.746370Z",
     "iopub.status.busy": "2021-05-19T22:34:48.745700Z",
     "iopub.status.idle": "2021-05-19T22:34:48.749835Z",
     "shell.execute_reply": "2021-05-19T22:34:48.749222Z"
    },
    "papermill": {
     "duration": 0.047788,
     "end_time": "2021-05-19T22:34:48.749978",
     "exception": false,
     "start_time": "2021-05-19T22:34:48.702190",
     "status": "completed"
    },
    "tags": []
   },
   "outputs": [
    {
     "data": {
      "text/plain": [
       "array([131.75      , 176.03424658])"
      ]
     },
     "execution_count": 8,
     "metadata": {},
     "output_type": "execute_result"
    }
   ],
   "source": [
    "np.interp([2, 4], lactate, HR)"
   ]
  },
  {
   "cell_type": "markdown",
   "metadata": {
    "papermill": {
     "duration": 0.038356,
     "end_time": "2021-05-19T22:34:48.827302",
     "exception": false,
     "start_time": "2021-05-19T22:34:48.788946",
     "status": "completed"
    },
    "tags": []
   },
   "source": [
    "There are several possible ways to derive training zones. One way would be the 3-zone model using two physiological ancherpoints, an aerobic and an anaerobic threshold. Another solution would be to anchor the training zones solely on the performance at the anaerobic threshold. Hence, we will use our $ v_4 $ and calculate the thresholds based on percentages. We will use <60%, 75%, 90%, 100% and 110% as thresholds to derive 5 zones."
   ]
  },
  {
   "cell_type": "code",
   "execution_count": 9,
   "metadata": {
    "execution": {
     "iopub.execute_input": "2021-05-19T22:34:48.910788Z",
     "iopub.status.busy": "2021-05-19T22:34:48.910114Z",
     "iopub.status.idle": "2021-05-19T22:34:48.913776Z",
     "shell.execute_reply": "2021-05-19T22:34:48.914306Z"
    },
    "papermill": {
     "duration": 0.048376,
     "end_time": "2021-05-19T22:34:48.914481",
     "exception": false,
     "start_time": "2021-05-19T22:34:48.866105",
     "status": "completed"
    },
    "tags": []
   },
   "outputs": [
    {
     "data": {
      "text/plain": [
       "array([2.20438356, 2.75547945, 3.30657534, 3.6739726 , 4.04136986])"
      ]
     },
     "execution_count": 9,
     "metadata": {},
     "output_type": "execute_result"
    }
   ],
   "source": [
    "Z=np.array([.6, .75, .9, 1, 1.1])\n",
    "vZ = v4*Z\n",
    "vZ"
   ]
  },
  {
   "cell_type": "markdown",
   "metadata": {
    "papermill": {
     "duration": 0.038841,
     "end_time": "2021-05-19T22:34:48.992710",
     "exception": false,
     "start_time": "2021-05-19T22:34:48.953869",
     "status": "completed"
    },
    "tags": []
   },
   "source": [
    "If you want to know the corresponding heart rate, you could, again, simply draw a vertical line and read off the value in the heart rate curve. Mathematically, it´s linear interpolation again. We pass our calculated velocity zones `vZ` to the `np.interp` function and get our result in one line."
   ]
  },
  {
   "cell_type": "code",
   "execution_count": 10,
   "metadata": {
    "execution": {
     "iopub.execute_input": "2021-05-19T22:34:49.074870Z",
     "iopub.status.busy": "2021-05-19T22:34:49.074227Z",
     "iopub.status.idle": "2021-05-19T22:34:49.079575Z",
     "shell.execute_reply": "2021-05-19T22:34:49.080097Z"
    },
    "papermill": {
     "duration": 0.048513,
     "end_time": "2021-05-19T22:34:49.080272",
     "exception": false,
     "start_time": "2021-05-19T22:34:49.031759",
     "status": "completed"
    },
    "tags": []
   },
   "outputs": [
    {
     "data": {
      "text/plain": [
       "array([101.64246575, 128.44006849, 157.86164384, 176.03424658,\n",
       "       185.7239726 ])"
      ]
     },
     "execution_count": 10,
     "metadata": {},
     "output_type": "execute_result"
    }
   ],
   "source": [
    "np.interp(vZ, stage, HR)"
   ]
  },
  {
   "cell_type": "markdown",
   "metadata": {
    "papermill": {
     "duration": 0.039414,
     "end_time": "2021-05-19T22:34:49.159615",
     "exception": false,
     "start_time": "2021-05-19T22:34:49.120201",
     "status": "completed"
    },
    "tags": []
   },
   "source": [
    "### Practice\n",
    "If you like, you can practice this by editing the code, change the fixed thresholds, the test data and the percentages used. If you are on kaggle, you can do that by clicking on 'edit' in the top right corner."
   ]
  },
  {
   "cell_type": "markdown",
   "metadata": {
    "papermill": {
     "duration": 0.039275,
     "end_time": "2021-05-19T22:34:49.238916",
     "exception": false,
     "start_time": "2021-05-19T22:34:49.199641",
     "status": "completed"
    },
    "tags": []
   },
   "source": [
    "<a id=\"Intermediate\"></a>\n",
    "<h1>Second Example: Intermediate</h1>\n",
    "In the second example, we automate the process of linear interpolation and show basic plots. We import data of several tests and apply those functions to each.\n",
    "\n",
    "<a id=\"i_load_data\"></a>\n",
    "## Load data from several incremental tests\n",
    "Let's load the data first. The data is organized in *long format* to facilitate data processing."
   ]
  },
  {
   "cell_type": "code",
   "execution_count": 12,
   "metadata": {},
   "outputs": [
    {
     "data": {
      "text/html": [
       "<div>\n",
       "<style scoped>\n",
       "    .dataframe tbody tr th:only-of-type {\n",
       "        vertical-align: middle;\n",
       "    }\n",
       "\n",
       "    .dataframe tbody tr th {\n",
       "        vertical-align: top;\n",
       "    }\n",
       "\n",
       "    .dataframe thead th {\n",
       "        text-align: right;\n",
       "    }\n",
       "</style>\n",
       "<table border=\"1\" class=\"dataframe\">\n",
       "  <thead>\n",
       "    <tr style=\"text-align: right;\">\n",
       "      <th></th>\n",
       "      <th>name</th>\n",
       "      <th>stage</th>\n",
       "      <th>lactate</th>\n",
       "      <th>HR</th>\n",
       "    </tr>\n",
       "  </thead>\n",
       "  <tbody>\n",
       "    <tr>\n",
       "      <th>0</th>\n",
       "      <td>Paul</td>\n",
       "      <td>2.5</td>\n",
       "      <td>1.3</td>\n",
       "      <td>148</td>\n",
       "    </tr>\n",
       "    <tr>\n",
       "      <th>1</th>\n",
       "      <td>Paul</td>\n",
       "      <td>3.0</td>\n",
       "      <td>1.5</td>\n",
       "      <td>169</td>\n",
       "    </tr>\n",
       "    <tr>\n",
       "      <th>2</th>\n",
       "      <td>Paul</td>\n",
       "      <td>3.5</td>\n",
       "      <td>3.7</td>\n",
       "      <td>186</td>\n",
       "    </tr>\n",
       "    <tr>\n",
       "      <th>3</th>\n",
       "      <td>Paul</td>\n",
       "      <td>4.0</td>\n",
       "      <td>8.6</td>\n",
       "      <td>195</td>\n",
       "    </tr>\n",
       "    <tr>\n",
       "      <th>4</th>\n",
       "      <td>Emma</td>\n",
       "      <td>2.5</td>\n",
       "      <td>1.0</td>\n",
       "      <td>127</td>\n",
       "    </tr>\n",
       "  </tbody>\n",
       "</table>\n",
       "</div>"
      ],
      "text/plain": [
       "   name  stage  lactate   HR\n",
       "0  Paul    2.5      1.3  148\n",
       "1  Paul    3.0      1.5  169\n",
       "2  Paul    3.5      3.7  186\n",
       "3  Paul    4.0      8.6  195\n",
       "4  Emma    2.5      1.0  127"
      ]
     },
     "execution_count": 12,
     "metadata": {},
     "output_type": "execute_result"
    }
   ],
   "source": [
    "#df=pd.read_csv(\"../input/inctest/inc_test.csv\")\n",
    "df=pd.read_csv(\"inc_test.csv\")\n",
    "\n",
    "df.head()"
   ]
  },
  {
   "cell_type": "markdown",
   "metadata": {
    "papermill": {
     "duration": 0.04029,
     "end_time": "2021-05-19T22:34:49.440546",
     "exception": false,
     "start_time": "2021-05-19T22:34:49.400256",
     "status": "completed"
    },
    "tags": []
   },
   "source": [
    "<a id=\"i_filter_data\"></a>\n",
    "## Access one data set\n",
    "We are going to extract one data set. To do so, we filter by the variable `name`. You can read the first line like \"give me all lines from `df` where the column name is *Paul*\". `df.name == \"Paul\"` is a boolean vector as long as our dataframe `df` that indicates (True or False) if the specific row contains our desired value. "
   ]
  },
  {
   "cell_type": "code",
   "execution_count": 14,
   "metadata": {
    "execution": {
     "iopub.execute_input": "2021-05-19T22:34:49.529553Z",
     "iopub.status.busy": "2021-05-19T22:34:49.528883Z",
     "iopub.status.idle": "2021-05-19T22:34:49.534332Z",
     "shell.execute_reply": "2021-05-19T22:34:49.533783Z"
    },
    "papermill": {
     "duration": 0.052805,
     "end_time": "2021-05-19T22:34:49.534487",
     "exception": false,
     "start_time": "2021-05-19T22:34:49.481682",
     "status": "completed"
    },
    "tags": []
   },
   "outputs": [],
   "source": [
    "dfsub=df[df.name == \"Paul\"]"
   ]
  },
  {
   "cell_type": "markdown",
   "metadata": {
    "papermill": {
     "duration": 0.040034,
     "end_time": "2021-05-19T22:34:49.615013",
     "exception": false,
     "start_time": "2021-05-19T22:34:49.574979",
     "status": "completed"
    },
    "tags": []
   },
   "source": [
    "### Plot lactate\n",
    "We plot the lactate curve alone in a simple plot. You could do it the same way with the heart rate. If you want to create a plot with both, have a look at the hidden code in the beginner section. We defined the function `plot_increment()` where you just need to pass your x-axis vector (stage) and your two y-axis vectors (lactate and heart rate)"
   ]
  },
  {
   "cell_type": "code",
   "execution_count": 15,
   "metadata": {
    "execution": {
     "iopub.execute_input": "2021-05-19T22:34:49.702016Z",
     "iopub.status.busy": "2021-05-19T22:34:49.701372Z",
     "iopub.status.idle": "2021-05-19T22:34:49.882991Z",
     "shell.execute_reply": "2021-05-19T22:34:49.883517Z"
    },
    "papermill": {
     "duration": 0.228151,
     "end_time": "2021-05-19T22:34:49.883687",
     "exception": false,
     "start_time": "2021-05-19T22:34:49.655536",
     "status": "completed"
    },
    "tags": []
   },
   "outputs": [
    {
     "data": {
      "text/plain": [
       "[<matplotlib.lines.Line2D at 0x1c419901d00>]"
      ]
     },
     "execution_count": 15,
     "metadata": {},
     "output_type": "execute_result"
    },
    {
     "data": {
      "image/png": "[encoded data removed]",
      "text/plain": [
       "<Figure size 1296x576 with 1 Axes>"
      ]
     },
     "metadata": {
      "needs_background": "light"
     },
     "output_type": "display_data"
    }
   ],
   "source": [
    "plt.plot(dfsub.stage, dfsub.lactate,'-o') # input: x and y, line style: '-o' = line + scatter"
   ]
  },
  {
   "cell_type": "code",
   "execution_count": 16,
   "metadata": {
    "execution": {
     "iopub.execute_input": "2021-05-19T22:34:50.023213Z",
     "iopub.status.busy": "2021-05-19T22:34:49.998875Z",
     "iopub.status.idle": "2021-05-19T22:34:50.264079Z",
     "shell.execute_reply": "2021-05-19T22:34:50.264589Z"
    },
    "papermill": {
     "duration": 0.339107,
     "end_time": "2021-05-19T22:34:50.264769",
     "exception": false,
     "start_time": "2021-05-19T22:34:49.925662",
     "status": "completed"
    },
    "tags": []
   },
   "outputs": [
    {
     "data": {
      "text/plain": [
       "<AxesSubplot:xlabel='Stage [m/s]', ylabel='Lactate [mmol/l]'>"
      ]
     },
     "execution_count": 16,
     "metadata": {},
     "output_type": "execute_result"
    },
    {
     "data": {
      "image/png": "[encoded data removed]",
      "text/plain": [
       "<Figure size 1296x576 with 2 Axes>"
      ]
     },
     "metadata": {
      "needs_background": "light"
     },
     "output_type": "display_data"
    }
   ],
   "source": [
    "plot_increment(dfsub.stage, dfsub.lactate,dfsub.HR)"
   ]
  },
  {
   "cell_type": "markdown",
   "metadata": {
    "papermill": {
     "duration": 0.043111,
     "end_time": "2021-05-19T22:34:50.351400",
     "exception": false,
     "start_time": "2021-05-19T22:34:50.308289",
     "status": "completed"
    },
    "tags": []
   },
   "source": []
  },
  {
   "cell_type": "markdown",
   "metadata": {
    "papermill": {
     "duration": 0.04305,
     "end_time": "2021-05-19T22:34:50.437882",
     "exception": false,
     "start_time": "2021-05-19T22:34:50.394832",
     "status": "completed"
    },
    "tags": []
   },
   "source": [
    "### Training Zones\n",
    "We use the formula just as above to derive our training zones:"
   ]
  },
  {
   "cell_type": "code",
   "execution_count": 19,
   "metadata": {
    "execution": {
     "iopub.execute_input": "2021-05-19T22:34:50.533333Z",
     "iopub.status.busy": "2021-05-19T22:34:50.532641Z",
     "iopub.status.idle": "2021-05-19T22:34:50.534623Z",
     "shell.execute_reply": "2021-05-19T22:34:50.535058Z"
    },
    "papermill": {
     "duration": 0.053464,
     "end_time": "2021-05-19T22:34:50.535294",
     "exception": false,
     "start_time": "2021-05-19T22:34:50.481830",
     "status": "completed"
    },
    "tags": []
   },
   "outputs": [
    {
     "data": {
      "text/plain": [
       "array([172.86363636, 186.55102041])"
      ]
     },
     "execution_count": 19,
     "metadata": {},
     "output_type": "execute_result"
    }
   ],
   "source": [
    "vZ=np.interp([2, 4], dfsub.lactate, dfsub.stage)\n",
    "HRZ= np.interp([2, 4], dfsub.lactate, dfsub.HR)\n",
    "HRZ"
   ]
  },
  {
   "cell_type": "markdown",
   "metadata": {
    "papermill": {
     "duration": 0.043357,
     "end_time": "2021-05-19T22:34:50.622346",
     "exception": false,
     "start_time": "2021-05-19T22:34:50.578989",
     "status": "completed"
    },
    "tags": []
   },
   "source": [
    "## Iterate over all data sets\n",
    "We can access all individual data sets in a for-loop. To do so, we create a variable that contains all names from the data source and iterate over that. Let us create each individual's lactate curve this way:\n",
    "### Plot all lactate curves"
   ]
  },
  {
   "cell_type": "code",
   "execution_count": 20,
   "metadata": {
    "execution": {
     "iopub.execute_input": "2021-05-19T22:34:50.712717Z",
     "iopub.status.busy": "2021-05-19T22:34:50.711991Z",
     "iopub.status.idle": "2021-05-19T22:34:50.906343Z",
     "shell.execute_reply": "2021-05-19T22:34:50.905749Z"
    },
    "papermill": {
     "duration": 0.240491,
     "end_time": "2021-05-19T22:34:50.906515",
     "exception": false,
     "start_time": "2021-05-19T22:34:50.666024",
     "status": "completed"
    },
    "tags": []
   },
   "outputs": [
    {
     "data": {
      "image/png": "[encoded data removed]",
      "text/plain": [
       "<Figure size 1296x576 with 1 Axes>"
      ]
     },
     "metadata": {
      "needs_background": "light"
     },
     "output_type": "display_data"
    }
   ],
   "source": [
    "names=pd.unique(df.name)           # contains all names once\n",
    "for name in names:\n",
    "    dfsub=df[df.name == name]      # Name contains in each iteration the next value from Names\n",
    "    plt.plot(dfsub.stage,dfsub.lactate,'-o')"
   ]
  },
  {
   "cell_type": "markdown",
   "metadata": {
    "papermill": {
     "duration": 0.045314,
     "end_time": "2021-05-19T22:34:50.998268",
     "exception": false,
     "start_time": "2021-05-19T22:34:50.952954",
     "status": "completed"
    },
    "tags": []
   },
   "source": [
    "<a id=\"i_linear_int\"></a>\n",
    "### Training Zones\n",
    "In the same way, we can gather the training zone threshold for every subject. We store our results in a *dictionary* we call `D`."
   ]
  },
  {
   "cell_type": "code",
   "execution_count": 21,
   "metadata": {
    "execution": {
     "iopub.execute_input": "2021-05-19T22:34:51.102568Z",
     "iopub.status.busy": "2021-05-19T22:34:51.101866Z",
     "iopub.status.idle": "2021-05-19T22:34:51.103927Z",
     "shell.execute_reply": "2021-05-19T22:34:51.104427Z"
    },
    "papermill": {
     "duration": 0.060709,
     "end_time": "2021-05-19T22:34:51.104612",
     "exception": false,
     "start_time": "2021-05-19T22:34:51.043903",
     "status": "completed"
    },
    "tags": []
   },
   "outputs": [],
   "source": [
    "D = dict()\n",
    "for name in names:\n",
    "    dfsub=df[df.name == name] \n",
    "    D[name] = {\"vZ\": np.interp([2, 4], dfsub.lactate, dfsub.stage), \n",
    "               \"HRZ\": np.interp([2, 4], dfsub.lactate, dfsub.HR)}"
   ]
  },
  {
   "cell_type": "markdown",
   "metadata": {
    "papermill": {
     "duration": 0.046346,
     "end_time": "2021-05-19T22:34:51.197314",
     "exception": false,
     "start_time": "2021-05-19T22:34:51.150968",
     "status": "completed"
    },
    "tags": []
   },
   "source": [
    "Here are some examples, how to access the data in a dictionary:"
   ]
  },
  {
   "cell_type": "code",
   "execution_count": 23,
   "metadata": {
    "execution": {
     "iopub.execute_input": "2021-05-19T22:34:51.293026Z",
     "iopub.status.busy": "2021-05-19T22:34:51.292365Z",
     "iopub.status.idle": "2021-05-19T22:34:51.297301Z",
     "shell.execute_reply": "2021-05-19T22:34:51.297796Z"
    },
    "papermill": {
     "duration": 0.054383,
     "end_time": "2021-05-19T22:34:51.297961",
     "exception": false,
     "start_time": "2021-05-19T22:34:51.243578",
     "status": "completed"
    },
    "tags": []
   },
   "outputs": [
    {
     "data": {
      "text/plain": [
       "array([3.11363636, 3.53061224])"
      ]
     },
     "execution_count": 23,
     "metadata": {},
     "output_type": "execute_result"
    }
   ],
   "source": [
    "D['Paul']\n",
    "D['Paul']['vZ']"
   ]
  },
  {
   "cell_type": "markdown",
   "metadata": {
    "papermill": {
     "duration": 0.046443,
     "end_time": "2021-05-19T22:34:51.391100",
     "exception": false,
     "start_time": "2021-05-19T22:34:51.344657",
     "status": "completed"
    },
    "tags": []
   },
   "source": [
    "<a id=\"Advanced\"></a>\n",
    "# Third Example: Advanced\n",
    "Linear interpolation is not the only way to derive training zones based on fixed threshold. It is possible to fit a curve (eg, polynomial, exponential) to the data and take points on the fitted curve. We can possibly alleviate small measurement errors by using the best fit to our data. In fact, other methods which do not rely on fixed threshold often use those regression lines to calculate lactate thresholds. Thus, by learning about curve fits we open the door gate to advanced concepts step by step. Let´s import another package we are going to use:"
   ]
  },
  {
   "cell_type": "code",
   "execution_count": 24,
   "metadata": {
    "execution": {
     "iopub.execute_input": "2021-05-19T22:34:51.487217Z",
     "iopub.status.busy": "2021-05-19T22:34:51.486469Z",
     "iopub.status.idle": "2021-05-19T22:34:52.025179Z",
     "shell.execute_reply": "2021-05-19T22:34:52.024446Z"
    },
    "papermill": {
     "duration": 0.587998,
     "end_time": "2021-05-19T22:34:52.025332",
     "exception": false,
     "start_time": "2021-05-19T22:34:51.437334",
     "status": "completed"
    },
    "tags": []
   },
   "outputs": [],
   "source": [
    "from scipy import optimize   # curve fitting"
   ]
  },
  {
   "cell_type": "markdown",
   "metadata": {
    "papermill": {
     "duration": 0.046708,
     "end_time": "2021-05-19T22:34:52.118576",
     "exception": false,
     "start_time": "2021-05-19T22:34:52.071868",
     "status": "completed"
    },
    "tags": []
   },
   "source": [
    "## load data"
   ]
  },
  {
   "cell_type": "code",
   "execution_count": 25,
   "metadata": {
    "execution": {
     "iopub.execute_input": "2021-05-19T22:34:52.217774Z",
     "iopub.status.busy": "2021-05-19T22:34:52.217028Z",
     "iopub.status.idle": "2021-05-19T22:34:52.219854Z",
     "shell.execute_reply": "2021-05-19T22:34:52.220380Z"
    },
    "papermill": {
     "duration": 0.055562,
     "end_time": "2021-05-19T22:34:52.220574",
     "exception": false,
     "start_time": "2021-05-19T22:34:52.165012",
     "status": "completed"
    },
    "tags": []
   },
   "outputs": [],
   "source": [
    "dfsub=df[df.name == \"Paul\"]"
   ]
  },
  {
   "cell_type": "markdown",
   "metadata": {
    "papermill": {
     "duration": 0.049,
     "end_time": "2021-05-19T22:34:52.315812",
     "exception": false,
     "start_time": "2021-05-19T22:34:52.266812",
     "status": "completed"
    },
    "tags": []
   },
   "source": [
    "## Fit a cubic curve\n",
    "Physiologically resonable lactate curve forms are based on a cubic (third order polynomial) or exponential formula. We are going to start with the cubic formula which has the form:\n",
    "\n",
    "$$ lactate = a + bv + cv^2 + dv^3 $$\n",
    "\n",
    "We use simple linear regression using OLS (ordinary least squares) to find the best fitting line (ie, that minimizes the squared residuals). The resulting curve is based on the coefficients $ a,b,c,d $ - this is what we get from our regression model.\n",
    "\n"
   ]
  },
  {
   "cell_type": "code",
   "execution_count": 26,
   "metadata": {
    "execution": {
     "iopub.execute_input": "2021-05-19T22:34:52.425631Z",
     "iopub.status.busy": "2021-05-19T22:34:52.424575Z",
     "iopub.status.idle": "2021-05-19T22:34:52.429764Z",
     "shell.execute_reply": "2021-05-19T22:34:52.429153Z"
    },
    "papermill": {
     "duration": 0.067784,
     "end_time": "2021-05-19T22:34:52.429902",
     "exception": false,
     "start_time": "2021-05-19T22:34:52.362118",
     "status": "completed"
    },
    "tags": []
   },
   "outputs": [
    {
     "name": "stdout",
     "output_type": "stream",
     "text": [
      "lactate = 5.8 + 3.4 v + -4.4 v² + 0.9 v³\n"
     ]
    }
   ],
   "source": [
    "coef=np.polyfit(dfsub.stage,dfsub.lactate,3)\n",
    "print(f'lactate = '  \n",
    "      f'{round(coef[3],1)} + ' \n",
    "      f'{round(coef[2],1)} v + '\n",
    "      f'{round(coef[1],1)} v² + '\n",
    "      f'{round(coef[0],1)} v³')"
   ]
  },
  {
   "cell_type": "markdown",
   "metadata": {
    "papermill": {
     "duration": 0.047796,
     "end_time": "2021-05-19T22:34:52.524656",
     "exception": false,
     "start_time": "2021-05-19T22:34:52.476860",
     "status": "completed"
    },
    "tags": []
   },
   "source": [
    "We simulate x-values (velocity) to predict y-values (lactate) based on our obtained formula"
   ]
  },
  {
   "cell_type": "code",
   "execution_count": 27,
   "metadata": {
    "execution": {
     "iopub.execute_input": "2021-05-19T22:34:52.626309Z",
     "iopub.status.busy": "2021-05-19T22:34:52.625640Z",
     "iopub.status.idle": "2021-05-19T22:34:52.627676Z",
     "shell.execute_reply": "2021-05-19T22:34:52.628156Z"
    },
    "papermill": {
     "duration": 0.055075,
     "end_time": "2021-05-19T22:34:52.628353",
     "exception": false,
     "start_time": "2021-05-19T22:34:52.573278",
     "status": "completed"
    },
    "tags": []
   },
   "outputs": [],
   "source": [
    "v = np.arange(min(dfsub.stage), max(dfsub.stage) + 0.5, 0.01)\n",
    "lac = coef[3] + coef[2]*v + coef[1]*v**2 + coef[0]*v**3"
   ]
  },
  {
   "cell_type": "code",
   "execution_count": 28,
   "metadata": {
    "execution": {
     "iopub.execute_input": "2021-05-19T22:34:52.725391Z",
     "iopub.status.busy": "2021-05-19T22:34:52.724666Z",
     "iopub.status.idle": "2021-05-19T22:34:52.911946Z",
     "shell.execute_reply": "2021-05-19T22:34:52.912453Z"
    },
    "papermill": {
     "duration": 0.237498,
     "end_time": "2021-05-19T22:34:52.912637",
     "exception": false,
     "start_time": "2021-05-19T22:34:52.675139",
     "status": "completed"
    },
    "tags": []
   },
   "outputs": [
    {
     "data": {
      "text/plain": [
       "[<matplotlib.lines.Line2D at 0x1c41bbfe8e0>]"
      ]
     },
     "execution_count": 28,
     "metadata": {},
     "output_type": "execute_result"
    },
    {
     "data": {
      "image/png": "[encoded data removed]",
      "text/plain": [
       "<Figure size 1296x576 with 1 Axes>"
      ]
     },
     "metadata": {
      "needs_background": "light"
     },
     "output_type": "display_data"
    }
   ],
   "source": [
    "plt.plot(v,lac)\n",
    "plt.plot(dfsub.stage,dfsub.lactate,'-o')"
   ]
  },
  {
   "cell_type": "markdown",
   "metadata": {
    "papermill": {
     "duration": 0.048247,
     "end_time": "2021-05-19T22:34:53.009555",
     "exception": false,
     "start_time": "2021-05-19T22:34:52.961308",
     "status": "completed"
    },
    "tags": []
   },
   "source": [
    "## Training Zones\n",
    "To get our training zones analytically, we could solve the upper equation with our obtained coefficients by inserting our threshold and solve for v. Note, that a cubic formula could have up to 3 solutions. We could even fit an inverse model (switching lactate and velocity in the upper formula) whoch would ease the calculation a little bit. However, we just can save our effort and derive the solution numerically using our predicted values that are in a reasonable range. The smaller the steps in v, the more precise our estimates get."
   ]
  },
  {
   "cell_type": "code",
   "execution_count": 29,
   "metadata": {
    "execution": {
     "iopub.execute_input": "2021-05-19T22:34:53.111448Z",
     "iopub.status.busy": "2021-05-19T22:34:53.110407Z",
     "iopub.status.idle": "2021-05-19T22:34:53.116392Z",
     "shell.execute_reply": "2021-05-19T22:34:53.116847Z"
    },
    "papermill": {
     "duration": 0.058777,
     "end_time": "2021-05-19T22:34:53.117024",
     "exception": false,
     "start_time": "2021-05-19T22:34:53.058247",
     "status": "completed"
    },
    "tags": []
   },
   "outputs": [
    {
     "data": {
      "text/plain": [
       "array([3.17314343, 3.5422605 ])"
      ]
     },
     "execution_count": 29,
     "metadata": {},
     "output_type": "execute_result"
    }
   ],
   "source": [
    "np.interp([2, 4], lac, v)"
   ]
  },
  {
   "cell_type": "markdown",
   "metadata": {
    "papermill": {
     "duration": 0.049149,
     "end_time": "2021-05-19T22:34:53.216287",
     "exception": false,
     "start_time": "2021-05-19T22:34:53.167138",
     "status": "completed"
    },
    "tags": []
   },
   "source": [
    "<a id=\"a_exponential_fit_via_lm\"></a>\n",
    "## Fit an exponential curve\n",
    "Both cubic and exponential curves can represent physiological features of the time-lactate curve in graded exercise. The cubic form allows a drop in lactate in the early stages compared to baseline, which can not be modelled with an exponential curve because it's slope is strict positive. This feature common in endurance athletes and can be explained by higher use of fatty acids. However, as you can see in the cubic model above, the predictions beyond our last data point fail. This is where the exponential fitting could provide better results. Let us see, if that is true!\n",
    "The formula for our exponential model looks like this:\n",
    "\n",
    "$$ lactate = a* e^{b*v} $$"
   ]
  },
  {
   "cell_type": "markdown",
   "metadata": {
    "papermill": {
     "duration": 0.049322,
     "end_time": "2021-05-19T22:34:53.315138",
     "exception": false,
     "start_time": "2021-05-19T22:34:53.265816",
     "status": "completed"
    },
    "tags": []
   },
   "source": [
    "<a id=\"a_exponential_fit_with_scipy\"></a>\n",
    "### exponential fit: scipy\n",
    "Now we apply a different method - namely the `optimize.curve_fit()` function from the `scipy` package - to estimate these coefficients. This method is also applicable to the example before. First we need to define a function:"
   ]
  },
  {
   "cell_type": "code",
   "execution_count": 30,
   "metadata": {
    "execution": {
     "iopub.execute_input": "2021-05-19T22:34:53.418377Z",
     "iopub.status.busy": "2021-05-19T22:34:53.417310Z",
     "iopub.status.idle": "2021-05-19T22:34:53.421778Z",
     "shell.execute_reply": "2021-05-19T22:34:53.422276Z"
    },
    "papermill": {
     "duration": 0.057659,
     "end_time": "2021-05-19T22:34:53.422464",
     "exception": false,
     "start_time": "2021-05-19T22:34:53.364805",
     "status": "completed"
    },
    "tags": []
   },
   "outputs": [],
   "source": [
    "ExpFun = lambda v,a,b: a*np.exp(b*v)"
   ]
  },
  {
   "cell_type": "markdown",
   "metadata": {
    "papermill": {
     "duration": 0.049835,
     "end_time": "2021-05-19T22:34:53.522408",
     "exception": false,
     "start_time": "2021-05-19T22:34:53.472573",
     "status": "completed"
    },
    "tags": []
   },
   "source": [
    "Next, we pass this function and our data to `optimize.curve_fit()`"
   ]
  },
  {
   "cell_type": "code",
   "execution_count": 33,
   "metadata": {
    "execution": {
     "iopub.execute_input": "2021-05-19T22:34:53.626606Z",
     "iopub.status.busy": "2021-05-19T22:34:53.625551Z",
     "iopub.status.idle": "2021-05-19T22:34:53.727883Z",
     "shell.execute_reply": "2021-05-19T22:34:53.727163Z"
    },
    "papermill": {
     "duration": 0.154862,
     "end_time": "2021-05-19T22:34:53.728033",
     "exception": false,
     "start_time": "2021-05-19T22:34:53.573171",
     "status": "completed"
    },
    "tags": []
   },
   "outputs": [
    {
     "name": "stdout",
     "output_type": "stream",
     "text": [
      "0.013836510628273808 1.6065182156232478\n"
     ]
    }
   ],
   "source": [
    "coef = optimize.curve_fit(ExpFun, dfsub.stage, dfsub.lactate,  p0=(1, 1))\n",
    "\n",
    "a, b = coef[0]\n",
    "print(a,b)"
   ]
  },
  {
   "cell_type": "markdown",
   "metadata": {
    "papermill": {
     "duration": 0.04921,
     "end_time": "2021-05-19T22:34:53.826664",
     "exception": false,
     "start_time": "2021-05-19T22:34:53.777454",
     "status": "completed"
    },
    "tags": []
   },
   "source": [
    "Note that we use the same velocity values as before, we just need to make new predictions based on our new model."
   ]
  },
  {
   "cell_type": "code",
   "execution_count": 34,
   "metadata": {
    "execution": {
     "iopub.execute_input": "2021-05-19T22:34:53.957319Z",
     "iopub.status.busy": "2021-05-19T22:34:53.946510Z",
     "iopub.status.idle": "2021-05-19T22:34:54.124559Z",
     "shell.execute_reply": "2021-05-19T22:34:54.123970Z"
    },
    "papermill": {
     "duration": 0.248201,
     "end_time": "2021-05-19T22:34:54.124721",
     "exception": false,
     "start_time": "2021-05-19T22:34:53.876520",
     "status": "completed"
    },
    "tags": []
   },
   "outputs": [
    {
     "data": {
      "text/plain": [
       "[<matplotlib.lines.Line2D at 0x1c41bcb0b50>]"
      ]
     },
     "execution_count": 34,
     "metadata": {},
     "output_type": "execute_result"
    },
    {
     "data": {
      "image/png": "[encoded data removed]",
      "text/plain": [
       "<Figure size 1296x576 with 1 Axes>"
      ]
     },
     "metadata": {
      "needs_background": "light"
     },
     "output_type": "display_data"
    }
   ],
   "source": [
    "lac_exp = ExpFun(v,a,b)\n",
    "\n",
    "plt.plot(v,lac_exp)\n",
    "plt.plot(dfsub.stage,dfsub.lactate,'-o')"
   ]
  },
  {
   "cell_type": "markdown",
   "metadata": {
    "papermill": {
     "duration": 0.051418,
     "end_time": "2021-05-19T22:34:54.228266",
     "exception": false,
     "start_time": "2021-05-19T22:34:54.176848",
     "status": "completed"
    },
    "tags": []
   },
   "source": [
    "Again, the numerical solution is handy and valid:"
   ]
  },
  {
   "cell_type": "code",
   "execution_count": 35,
   "metadata": {
    "execution": {
     "iopub.execute_input": "2021-05-19T22:34:54.338274Z",
     "iopub.status.busy": "2021-05-19T22:34:54.337139Z",
     "iopub.status.idle": "2021-05-19T22:34:54.341759Z",
     "shell.execute_reply": "2021-05-19T22:34:54.342270Z"
    },
    "papermill": {
     "duration": 0.062656,
     "end_time": "2021-05-19T22:34:54.342468",
     "exception": false,
     "start_time": "2021-05-19T22:34:54.279812",
     "status": "completed"
    },
    "tags": []
   },
   "outputs": [
    {
     "data": {
      "text/plain": [
       "array([3.09586306, 3.5273261 ])"
      ]
     },
     "execution_count": 35,
     "metadata": {},
     "output_type": "execute_result"
    }
   ],
   "source": [
    "np.interp([2, 4], lac_exp, v)"
   ]
  },
  {
   "cell_type": "markdown",
   "metadata": {
    "papermill": {
     "duration": 0.051664,
     "end_time": "2021-05-19T22:34:54.445770",
     "exception": false,
     "start_time": "2021-05-19T22:34:54.394106",
     "status": "completed"
    },
    "tags": []
   },
   "source": [
    "However, since there is only one solution, we show you how to obtain fixed values analytically:\n",
    "\n",
    "$$\n",
    "\\begin{aligned}  \n",
    "& &lactate & = a*e^{b*v}  \\newline\n",
    "&\\iff &log(lactate) & = log (a*e^{b*v}) \\newline \n",
    "&\\iff &log(lactate) & = log(a) + log(e^{b*v})  \\newline\n",
    "&\\iff &log(lactate) & = log(a) + b * v  \\newline\n",
    "&\\iff &log(lactate) - log(a) & = b * v  \\newline\n",
    "&\\iff &\\frac{log(lactate) - log(a)}{b} & = v  \\newline\n",
    "\\end{aligned}\n",
    "$$\n"
   ]
  },
  {
   "cell_type": "code",
   "execution_count": 36,
   "metadata": {
    "execution": {
     "iopub.execute_input": "2021-05-19T22:34:54.557345Z",
     "iopub.status.busy": "2021-05-19T22:34:54.556368Z",
     "iopub.status.idle": "2021-05-19T22:34:54.560231Z",
     "shell.execute_reply": "2021-05-19T22:34:54.560719Z"
    },
    "papermill": {
     "duration": 0.062696,
     "end_time": "2021-05-19T22:34:54.560886",
     "exception": false,
     "start_time": "2021-05-19T22:34:54.498190",
     "status": "completed"
    },
    "tags": []
   },
   "outputs": [
    {
     "data": {
      "text/plain": [
       "array([3.09588252, 3.52734179])"
      ]
     },
     "execution_count": 36,
     "metadata": {},
     "output_type": "execute_result"
    }
   ],
   "source": [
    "vFromExp = lambda L,a,b: (np.log(L)-np.log(a)) / b\n",
    "\n",
    "vFromExp([2,4],a,b)"
   ]
  },
  {
   "cell_type": "markdown",
   "metadata": {
    "papermill": {
     "duration": 0.051815,
     "end_time": "2021-05-19T22:34:54.665800",
     "exception": false,
     "start_time": "2021-05-19T22:34:54.613985",
     "status": "completed"
    },
    "tags": []
   },
   "source": [
    "### exponential fit: linear model\n",
    "It is possible to fit an exponential model by making it linear. For that, we have to apply a log-transformation like we just did to solve vor `v`. Note, that we reached in line 4 that equation:\n",
    "\n",
    "$$ \n",
    "log(lactate) = log(a) + b * v\n",
    "$$\n",
    "\n",
    "This formula has the form $ f(x) = a + b *x $ with fixed coefficients $ a,b $. Thus, this is a straight line. We can fit this line with `np.polyfit` as this is a polynomonial equation first order ($x^1$). "
   ]
  },
  {
   "cell_type": "code",
   "execution_count": 37,
   "metadata": {
    "execution": {
     "iopub.execute_input": "2021-05-19T22:34:54.778139Z",
     "iopub.status.busy": "2021-05-19T22:34:54.777363Z",
     "iopub.status.idle": "2021-05-19T22:34:54.779332Z",
     "shell.execute_reply": "2021-05-19T22:34:54.779815Z"
    },
    "papermill": {
     "duration": 0.061694,
     "end_time": "2021-05-19T22:34:54.780025",
     "exception": false,
     "start_time": "2021-05-19T22:34:54.718331",
     "status": "completed"
    },
    "tags": []
   },
   "outputs": [],
   "source": [
    "coef=np.polyfit(dfsub.stage,np.log(dfsub.lactate),1, w=np.sqrt(dfsub.lactate))"
   ]
  },
  {
   "cell_type": "markdown",
   "metadata": {
    "papermill": {
     "duration": 0.052239,
     "end_time": "2021-05-19T22:34:54.884828",
     "exception": false,
     "start_time": "2021-05-19T22:34:54.832589",
     "status": "completed"
    },
    "tags": []
   },
   "source": [
    "We plug our coefficients back in the exponential formula $ lactate = a*e^{b*v} $. By doing that, we have to exponentiate coefficient `a`:"
   ]
  },
  {
   "cell_type": "code",
   "execution_count": 38,
   "metadata": {
    "execution": {
     "iopub.execute_input": "2021-05-19T22:34:54.993800Z",
     "iopub.status.busy": "2021-05-19T22:34:54.993143Z",
     "iopub.status.idle": "2021-05-19T22:34:55.186124Z",
     "shell.execute_reply": "2021-05-19T22:34:55.185601Z"
    },
    "papermill": {
     "duration": 0.248674,
     "end_time": "2021-05-19T22:34:55.186268",
     "exception": false,
     "start_time": "2021-05-19T22:34:54.937594",
     "status": "completed"
    },
    "tags": []
   },
   "outputs": [
    {
     "data": {
      "text/plain": [
       "[<matplotlib.lines.Line2D at 0x1c41bd1e6a0>]"
      ]
     },
     "execution_count": 38,
     "metadata": {},
     "output_type": "execute_result"
    },
    {
     "data": {
      "image/png": "[encoded data removed]",
      "text/plain": [
       "<Figure size 1296x576 with 1 Axes>"
      ]
     },
     "metadata": {
      "needs_background": "light"
     },
     "output_type": "display_data"
    }
   ],
   "source": [
    "lac_poly = np.exp(coef[1]) * np.exp(coef[0]*v)\n",
    "\n",
    "plt.plot(v,lac_poly)\n",
    "plt.plot(dfsub.stage,dfsub.lactate,'-o')"
   ]
  },
  {
   "cell_type": "markdown",
   "metadata": {
    "papermill": {
     "duration": 0.056485,
     "end_time": "2021-05-19T22:34:55.300742",
     "exception": false,
     "start_time": "2021-05-19T22:34:55.244257",
     "status": "completed"
    },
    "tags": []
   },
   "source": [
    "Note, that both exponential models give slightly different predictions. This is due to that the error terms are handled either additively or multiplicatively (look here for more information: https://stackoverflow.com/questions/31851936/exponential-curve-fitting-in-r )"
   ]
  },
  {
   "cell_type": "code",
   "execution_count": 39,
   "metadata": {
    "execution": {
     "iopub.execute_input": "2021-05-19T22:34:55.427636Z",
     "iopub.status.busy": "2021-05-19T22:34:55.426834Z",
     "iopub.status.idle": "2021-05-19T22:34:55.635489Z",
     "shell.execute_reply": "2021-05-19T22:34:55.634803Z"
    },
    "papermill": {
     "duration": 0.280898,
     "end_time": "2021-05-19T22:34:55.635639",
     "exception": false,
     "start_time": "2021-05-19T22:34:55.354741",
     "status": "completed"
    },
    "tags": []
   },
   "outputs": [
    {
     "data": {
      "text/plain": [
       "<matplotlib.legend.Legend at 0x1c41c16fc40>"
      ]
     },
     "execution_count": 39,
     "metadata": {},
     "output_type": "execute_result"
    },
    {
     "data": {
      "image/png": "[encoded data removed]",
      "text/plain": [
       "<Figure size 1296x576 with 1 Axes>"
      ]
     },
     "metadata": {
      "needs_background": "light"
     },
     "output_type": "display_data"
    }
   ],
   "source": [
    "plt.plot(v,lac_poly)\n",
    "plt.plot(v,lac_exp)\n",
    "plt.plot(dfsub.stage,dfsub.lactate,'o')\n",
    "plt.legend(['log-exp',\n",
    "           'scipy-exp'])"
   ]
  },
  {
   "cell_type": "code",
   "execution_count": null,
   "metadata": {},
   "outputs": [],
   "source": []
  }
 ],
 "metadata": {
  "kernelspec": {
   "display_name": "Python 3",
   "language": "python",
   "name": "python3"
  },
  "language_info": {
   "codemirror_mode": {
    "name": "ipython",
    "version": 3
   },
   "file_extension": ".py",
   "mimetype": "text/x-python",
   "name": "python",
   "nbconvert_exporter": "python",
   "pygments_lexer": "ipython3",
   "version": "3.8.5"
  },
  "papermill": {
   "default_parameters": {},
   "duration": 17.86459,
   "end_time": "2021-05-19T22:34:56.401399",
   "environment_variables": {},
   "exception": null,
   "input_path": "__notebook__.ipynb",
   "output_path": "__notebook__.ipynb",
   "parameters": {},
   "start_time": "2021-05-19T22:34:38.536809",
   "version": "2.3.3"
  }
 },
 "nbformat": 4,
 "nbformat_minor": 5
}
