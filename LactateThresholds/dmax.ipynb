{
 "metadata": {
  "language_info": {
   "codemirror_mode": {
    "name": "ipython",
    "version": 3
   },
   "file_extension": ".py",
   "mimetype": "text/x-python",
   "name": "python",
   "nbconvert_exporter": "python",
   "pygments_lexer": "ipython3",
   "version": "3.8.5"
  },
  "orig_nbformat": 2,
  "kernelspec": {
   "name": "python385jvsc74a57bd0b3ba2566441a7c06988d0923437866b63cedc61552a5af99d1f4fb67d367b25f",
   "display_name": "Python 3.8.5 64-bit ('base': conda)"
  }
 },
 "nbformat": 4,
 "nbformat_minor": 2,
 "cells": [
  {
   "source": [
    "## Lactate thresholds: $ d_{max} $ and $ d_{mod} $"
   ],
   "cell_type": "markdown",
   "metadata": {}
  },
  {
   "source": [
    "load packages"
   ],
   "cell_type": "markdown",
   "metadata": {}
  },
  {
   "cell_type": "code",
   "execution_count": 4,
   "metadata": {},
   "outputs": [],
   "source": [
    "import numpy as np                # linear algebra\n",
    "import pandas as pd               # data processing\n",
    "import matplotlib.pyplot as plt   # plotting\n",
    "from scipy import optimize        # curve fitting"
   ]
  },
  {
   "source": [
    "test data"
   ],
   "cell_type": "markdown",
   "metadata": {}
  },
  {
   "cell_type": "code",
   "execution_count": 2,
   "metadata": {},
   "outputs": [],
   "source": [
    "# incremental test data\n",
    "stage = [2, 2.4, 2.8, 3.2, 3.6, 4.0, 4.4]            # velocity in m/s\n",
    "lactate = [1.8, 1.75, 1.98, 2.54, 3.46, 6.38, 14.37] # lactate in mmol/l\n",
    "HR = [95, 108, 131, 152, 174, 185, 192]              # heart rate in bpm"
   ]
  },
  {
   "source": [
    "## Cubic fit"
   ],
   "cell_type": "markdown",
   "metadata": {}
  },
  {
   "cell_type": "code",
   "execution_count": 37,
   "metadata": {},
   "outputs": [
    {
     "output_type": "execute_result",
     "data": {
      "text/plain": [
       "3.0552506812348676"
      ]
     },
     "metadata": {},
     "execution_count": 37
    }
   ],
   "source": [
    "# third-order polynomial regression\n",
    "coef=np.polyfit(stage,lactate,3)\n",
    "\n",
    "# simulate velocity (x) data\n",
    "v = np.arange(min(stage), max(stage) + 0.5, 0.01)\n",
    "\n",
    "# predict lactate (y) data\n",
    "lac = coef[3] + coef[2]*v + coef[1]*v**2 + coef[0]*v**3\n",
    "\n",
    "# derivatives\n",
    "dlac = coef[2] + coef[1]*2*v + coef[0]*3*v**2\n",
    "ddlac = coef[1]*2 + coef[0]*6*v\n",
    "\n",
    "\n"
   ]
  },
  {
   "source": [
    "## $ d_{max} $ "
   ],
   "cell_type": "markdown",
   "metadata": {}
  },
  {
   "cell_type": "code",
   "execution_count": null,
   "metadata": {},
   "outputs": [],
   "source": [
    "# line slope & dmax\n",
    "slope = (lactate[-1] - lactate[0]) / (stage[-1] - stage[0])\n",
    "d_max = np.interp(slope, dlac[ddlac>0],v[ddlac>0])"
   ]
  },
  {
   "source": [
    "## $ d_{max} $ "
   ],
   "cell_type": "markdown",
   "metadata": {}
  },
  {
   "cell_type": "code",
   "execution_count": 41,
   "metadata": {},
   "outputs": [
    {
     "output_type": "execute_result",
     "data": {
      "text/plain": [
       "3.044142053391652"
      ]
     },
     "metadata": {},
     "execution_count": 41
    }
   ],
   "source": [
    "# first lactate raise of 0.4 mmol\n",
    "index = np.argmax(np.diff(lactate)>0.4)\n",
    "\n",
    "# slope & dmod\n",
    "slope = (lactate[-1] - lactate[index]) / (stage[-1] - stage[index])\n",
    "d_mod = np.interp(slope, dlac[ddlac>0],v[ddlac>0])"
   ]
  },
  {
   "cell_type": "code",
   "execution_count": null,
   "metadata": {},
   "outputs": [],
   "source": []
  }
 ]
}