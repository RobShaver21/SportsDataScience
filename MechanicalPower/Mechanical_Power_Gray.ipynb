{
 "cells": [
  {
   "cell_type": "markdown",
   "metadata": {},
   "source": [
    "# Mechanical Power\n",
    "Gray et al. (2020)"
   ]
  },
  {
   "cell_type": "markdown",
   "metadata": {},
   "source": [
    "An energy-based approach to quantifying the mechanical demands of overground, constant velocity and/or intermittent running patterns is presented. The total work done ($W_{total}$) is determined from the <b>sum</b> of the four sub components: work done to accelerate the centre of mass horizontally ($W_{hor}$), vertically ($W_{vert}$), to overcome air resistance ($W_{air})$ and to swing the limbs ($W_{limbs}$)\n",
    "$$W_{total} = W_{hor} + W_{vert} + W_{air} + W_{limbs}$$\n",
    "\n",
    "This notebook implements the approach in the programming language python."
   ]
  },
  {
   "cell_type": "markdown",
   "metadata": {},
   "source": [
    "## Importing Data and Libraries"
   ]
  },
  {
   "cell_type": "code",
   "execution_count": 3,
   "metadata": {},
   "outputs": [],
   "source": [
    "import pandas as pd \n",
    "import numpy as np\n",
    "import matplotlib.pyplot as plt"
   ]
  },
  {
   "cell_type": "code",
   "execution_count": 4,
   "metadata": {},
   "outputs": [
    {
     "data": {
      "text/html": [
       "<div>\n",
       "<style scoped>\n",
       "    .dataframe tbody tr th:only-of-type {\n",
       "        vertical-align: middle;\n",
       "    }\n",
       "\n",
       "    .dataframe tbody tr th {\n",
       "        vertical-align: top;\n",
       "    }\n",
       "\n",
       "    .dataframe thead th {\n",
       "        text-align: right;\n",
       "    }\n",
       "</style>\n",
       "<table border=\"1\" class=\"dataframe\">\n",
       "  <thead>\n",
       "    <tr style=\"text-align: right;\">\n",
       "      <th></th>\n",
       "      <th>Uhrzeit</th>\n",
       "      <th>Uhrzeit.1</th>\n",
       "      <th>HF [S/min]</th>\n",
       "      <th>Geschwindigkeit [km/h]</th>\n",
       "      <th>Distanz [m]</th>\n",
       "      <th>Beschleunigung [m/s²]</th>\n",
       "      <th>Schrittfrequenz</th>\n",
       "    </tr>\n",
       "  </thead>\n",
       "  <tbody>\n",
       "    <tr>\n",
       "      <th>0</th>\n",
       "      <td>00:00:00.0</td>\n",
       "      <td>18:14:47.0</td>\n",
       "      <td>106.0</td>\n",
       "      <td>0.00</td>\n",
       "      <td>0.0</td>\n",
       "      <td>0.00</td>\n",
       "      <td>0</td>\n",
       "    </tr>\n",
       "    <tr>\n",
       "      <th>1</th>\n",
       "      <td>00:00:00.1</td>\n",
       "      <td>18:14:47.1</td>\n",
       "      <td>106.0</td>\n",
       "      <td>0.00</td>\n",
       "      <td>0.0</td>\n",
       "      <td>0.00</td>\n",
       "      <td>0</td>\n",
       "    </tr>\n",
       "    <tr>\n",
       "      <th>2</th>\n",
       "      <td>00:00:00.2</td>\n",
       "      <td>18:14:47.2</td>\n",
       "      <td>106.0</td>\n",
       "      <td>0.00</td>\n",
       "      <td>0.0</td>\n",
       "      <td>0.00</td>\n",
       "      <td>0</td>\n",
       "    </tr>\n",
       "    <tr>\n",
       "      <th>3</th>\n",
       "      <td>00:00:00.3</td>\n",
       "      <td>18:14:47.3</td>\n",
       "      <td>106.0</td>\n",
       "      <td>0.00</td>\n",
       "      <td>0.0</td>\n",
       "      <td>0.00</td>\n",
       "      <td>0</td>\n",
       "    </tr>\n",
       "    <tr>\n",
       "      <th>4</th>\n",
       "      <td>00:00:00.4</td>\n",
       "      <td>18:14:47.4</td>\n",
       "      <td>106.0</td>\n",
       "      <td>0.00</td>\n",
       "      <td>0.0</td>\n",
       "      <td>0.00</td>\n",
       "      <td>0</td>\n",
       "    </tr>\n",
       "    <tr>\n",
       "      <th>...</th>\n",
       "      <td>...</td>\n",
       "      <td>...</td>\n",
       "      <td>...</td>\n",
       "      <td>...</td>\n",
       "      <td>...</td>\n",
       "      <td>...</td>\n",
       "      <td>...</td>\n",
       "    </tr>\n",
       "    <tr>\n",
       "      <th>61618</th>\n",
       "      <td>01:42:41.8</td>\n",
       "      <td>19:57:28.8</td>\n",
       "      <td>NaN</td>\n",
       "      <td>4.98</td>\n",
       "      <td>7488.6</td>\n",
       "      <td>0.89</td>\n",
       "      <td>52</td>\n",
       "    </tr>\n",
       "    <tr>\n",
       "      <th>61619</th>\n",
       "      <td>01:42:41.9</td>\n",
       "      <td>19:57:28.9</td>\n",
       "      <td>NaN</td>\n",
       "      <td>4.81</td>\n",
       "      <td>7488.7</td>\n",
       "      <td>0.67</td>\n",
       "      <td>52</td>\n",
       "    </tr>\n",
       "    <tr>\n",
       "      <th>61620</th>\n",
       "      <td>01:42:42.0</td>\n",
       "      <td>19:57:29.0</td>\n",
       "      <td>NaN</td>\n",
       "      <td>4.55</td>\n",
       "      <td>7488.8</td>\n",
       "      <td>0.45</td>\n",
       "      <td>43</td>\n",
       "    </tr>\n",
       "    <tr>\n",
       "      <th>61621</th>\n",
       "      <td>01:42:42.1</td>\n",
       "      <td>19:57:29.1</td>\n",
       "      <td>NaN</td>\n",
       "      <td>4.27</td>\n",
       "      <td>7488.9</td>\n",
       "      <td>0.26</td>\n",
       "      <td>43</td>\n",
       "    </tr>\n",
       "    <tr>\n",
       "      <th>61622</th>\n",
       "      <td>01:42:42.2</td>\n",
       "      <td>19:57:29.2</td>\n",
       "      <td>NaN</td>\n",
       "      <td>3.76</td>\n",
       "      <td>7489.1</td>\n",
       "      <td>0.09</td>\n",
       "      <td>43</td>\n",
       "    </tr>\n",
       "  </tbody>\n",
       "</table>\n",
       "<p>61623 rows × 7 columns</p>\n",
       "</div>"
      ],
      "text/plain": [
       "          Uhrzeit   Uhrzeit.1  HF [S/min]  Geschwindigkeit [km/h]  \\\n",
       "0      00:00:00.0  18:14:47.0       106.0                    0.00   \n",
       "1      00:00:00.1  18:14:47.1       106.0                    0.00   \n",
       "2      00:00:00.2  18:14:47.2       106.0                    0.00   \n",
       "3      00:00:00.3  18:14:47.3       106.0                    0.00   \n",
       "4      00:00:00.4  18:14:47.4       106.0                    0.00   \n",
       "...           ...         ...         ...                     ...   \n",
       "61618  01:42:41.8  19:57:28.8         NaN                    4.98   \n",
       "61619  01:42:41.9  19:57:28.9         NaN                    4.81   \n",
       "61620  01:42:42.0  19:57:29.0         NaN                    4.55   \n",
       "61621  01:42:42.1  19:57:29.1         NaN                    4.27   \n",
       "61622  01:42:42.2  19:57:29.2         NaN                    3.76   \n",
       "\n",
       "       Distanz [m]  Beschleunigung [m/s²]  Schrittfrequenz  \n",
       "0              0.0                   0.00                0  \n",
       "1              0.0                   0.00                0  \n",
       "2              0.0                   0.00                0  \n",
       "3              0.0                   0.00                0  \n",
       "4              0.0                   0.00                0  \n",
       "...            ...                    ...              ...  \n",
       "61618       7488.6                   0.89               52  \n",
       "61619       7488.7                   0.67               52  \n",
       "61620       7488.8                   0.45               43  \n",
       "61621       7488.9                   0.26               43  \n",
       "61622       7489.1                   0.09               43  \n",
       "\n",
       "[61623 rows x 7 columns]"
      ]
     },
     "execution_count": 4,
     "metadata": {},
     "output_type": "execute_result"
    }
   ],
   "source": [
    "df=pd.read_csv(\"20200129_185931_1_Jessica_challenor_samples.csv\")\n",
    "df"
   ]
  },
  {
   "cell_type": "code",
   "execution_count": 5,
   "metadata": {},
   "outputs": [],
   "source": [
    "# adding v (velocity) collumn\n",
    "df['v']=df['Geschwindigkeit [km/h]']/3.6\n",
    "t_i = np.arange(0, len(df)/10, 0.1)\n",
    "v = df.v"
   ]
  },
  {
   "cell_type": "markdown",
   "metadata": {},
   "source": [
    "## COM & Limb kinematics\n",
    "The movement of the centre of mass (COM) is tightly coupled to running speed and can be imagined as a bouncing ball. Considering one step the COM is the lowest during mid-support and the highest during mid-flight. This vertical displacement ($ \\Delta~h~in~m$) of the COM can roughly estimated using the following equation:\n",
    "\n",
    "$ \\Delta h = - 0.008 + 0.004 * v $\n",
    "\n",
    "where $v$ has the unit $\\frac {m}{s}$. The calculation is based on a linear correlation between running speed and vertical COM displacement ($r^2 = 0.444,~p = 0.034,~n = 90$).\n",
    "\n",
    "Furthermore the stride frequency ($f~in~Hz$) and the duty factor ($d~in~\\%~in~decimal~form$, the duty factor is the percentage of the stride cycle in which a single limb is in the support phase) need to be calculated. For this purpose two equations are proposed by Gray et al. (2020):\n",
    "\n",
    "$f = 0.026 * v^2 - 0.111 * v + 1.398$\n",
    "\n",
    "$d = 0.004 * v^2 - 0.061 * v + 0.50 $\n",
    "\n",
    "All three equations are implemented in the following section of code. For the sake of this demonstration a new array containing speeds from 0 - 10 $\\frac {m}{s}$ is created and used for the calculations. This enables us to gain a rough understanding on how $ \\Delta~h$, $f$ and $d$ behave in different velocities.\n"
   ]
  },
  {
   "cell_type": "code",
   "execution_count": 27,
   "metadata": {},
   "outputs": [
    {
     "data": {
      "text/plain": [
       "[<matplotlib.lines.Line2D at 0x2970c6ab880>]"
      ]
     },
     "execution_count": 27,
     "metadata": {},
     "output_type": "execute_result"
    },
    {
     "data": {
      "image/png": "[encoded data removed]",
      "text/plain": [
       "<Figure size 2160x360 with 3 Axes>"
      ]
     },
     "metadata": {
      "needs_background": "light"
     },
     "output_type": "display_data"
    }
   ],
   "source": [
    "v_ex = np.arange(0,10,0.1)\n",
    "dh = - 0.008 + 0.004 * v_ex\n",
    "f = 0.026 * v_ex**2 - 0.111 * v_ex + 1.398\n",
    "d = 0.004 * v_ex**2 - 0.061 * v_ex + 0.5\n",
    "\n",
    "fig = plt.figure(figsize=(30, 5))\n",
    "plt.subplot(1,3,1)\n",
    "plt.plot(dh)\n",
    "\n",
    "plt.subplot(1,3,2)\n",
    "plt.plot(f)\n",
    "\n",
    "plt.subplot(1,3,3)\n",
    "plt.plot(d)"
   ]
  },
  {
   "cell_type": "markdown",
   "metadata": {},
   "source": [
    "## External Work\n",
    "### Calculating Horizontal and vertical Work"
   ]
  },
  {
   "cell_type": "code",
   "execution_count": 7,
   "metadata": {},
   "outputs": [],
   "source": [
    "W_horz = np.cumsum(0.5 * (np.gradient(v**2)))\n",
    "W_vert = abs(np.cumsum(2 * 9.81 * dh * f))"
   ]
  },
  {
   "cell_type": "markdown",
   "metadata": {},
   "source": [
    "### calculating Work against air"
   ]
  },
  {
   "cell_type": "code",
   "execution_count": 8,
   "metadata": {},
   "outputs": [],
   "source": [
    "p_0 = 1293\n",
    "BP = 760\n",
    "T = 20\n",
    "\n",
    "p = 273 * p_0 * BP / 760 / T  \n",
    "\n",
    "ht = 65\n",
    "M = 55\n",
    "\n",
    "A_p = 0.26* (94.9 * ht**0.655 * M**0.441)\n",
    "\n",
    "C_d = 1\n",
    "\n",
    "#t_i = 0.1\n",
    "\n",
    "W_air =np.cumsum(0.5 * p * A_p * v**3 * C_d * t_i / M)\n",
    "\n",
    "# F_air = 0.5 * p * A_p * S**2 * C_d"
   ]
  },
  {
   "cell_type": "code",
   "execution_count": 9,
   "metadata": {},
   "outputs": [
    {
     "data": {
      "text/plain": [
       "[<matplotlib.lines.Line2D at 0x29707c037f0>]"
      ]
     },
     "execution_count": 9,
     "metadata": {},
     "output_type": "execute_result"
    },
    {
     "data": {
      "image/png": "[encoded data removed]",
      "text/plain": [
       "<Figure size 432x288 with 1 Axes>"
      ]
     },
     "metadata": {
      "needs_background": "light"
     },
     "output_type": "display_data"
    }
   ],
   "source": [
    "#plt.plot(W_air)\n",
    "#plt.plot(W_vert)\n",
    "plt.plot(W_horz)\n"
   ]
  },
  {
   "cell_type": "markdown",
   "metadata": {},
   "source": [
    "## Internal Work"
   ]
  },
  {
   "cell_type": "code",
   "execution_count": 10,
   "metadata": {},
   "outputs": [],
   "source": [
    "q = 0.1\n",
    "\n",
    "W_limbs = np.cumsum(q * v**3 * f * (1 + (d/(1-d))**2 ) * t_i)"
   ]
  },
  {
   "cell_type": "markdown",
   "metadata": {},
   "source": [
    "# Calculating total work\n"
   ]
  },
  {
   "cell_type": "code",
   "execution_count": 11,
   "metadata": {},
   "outputs": [],
   "source": [
    "W_total = 2 * W_vert + W_horz + W_limbs + W_air\n",
    "P_total = W_total / t_i"
   ]
  },
  {
   "cell_type": "code",
   "execution_count": 12,
   "metadata": {},
   "outputs": [
    {
     "data": {
      "text/plain": [
       "[<matplotlib.lines.Line2D at 0x297078b8520>]"
      ]
     },
     "execution_count": 12,
     "metadata": {},
     "output_type": "execute_result"
    },
    {
     "data": {
      "image/png": "[encoded data removed]",
      "text/plain": [
       "<Figure size 432x288 with 1 Axes>"
      ]
     },
     "metadata": {
      "needs_background": "light"
     },
     "output_type": "display_data"
    }
   ],
   "source": [
    "plt.plot(P_total)"
   ]
  }
 ],
 "metadata": {
  "interpreter": {
   "hash": "bd216bc2c0a4d891b93e4ba5dba2c1071f5c01076a47a39818a305595ac383b1"
  },
  "kernelspec": {
   "display_name": "Python 3.8.7 64-bit",
   "name": "python3"
  },
  "language_info": {
   "codemirror_mode": {
    "name": "ipython",
    "version": 3
   },
   "file_extension": ".py",
   "mimetype": "text/x-python",
   "name": "python",
   "nbconvert_exporter": "python",
   "pygments_lexer": "ipython3",
   "version": "3.8.8"
  },
  "orig_nbformat": 2
 },
 "nbformat": 4,
 "nbformat_minor": 2
}
