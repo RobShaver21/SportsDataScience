{
 "metadata": {
  "language_info": {
   "codemirror_mode": {
    "name": "ipython",
    "version": 3
   },
   "file_extension": ".py",
   "mimetype": "text/x-python",
   "name": "python",
   "nbconvert_exporter": "python",
   "pygments_lexer": "ipython3",
   "version": "3.8.7"
  },
  "orig_nbformat": 2,
  "kernelspec": {
   "name": "python3",
   "display_name": "Python 3.8.7 64-bit"
  },
  "interpreter": {
   "hash": "bd216bc2c0a4d891b93e4ba5dba2c1071f5c01076a47a39818a305595ac383b1"
  }
 },
 "nbformat": 4,
 "nbformat_minor": 2,
 "cells": [
  {
   "cell_type": "markdown",
   "source": [
    "# Mechanical Power\n",
    "Gray et al. (2020)"
   ],
   "metadata": {}
  },
  {
   "cell_type": "markdown",
   "source": [
    "An energy-based approach to quantifying the mechanical demands of overground, constant velocity and/or intermittent running patterns is presented. The total work done ($W_{total}$) is determined from the <b>sum</b> of the four sub components: work done to accelerate the centre of mass horizontally ($W_{hor}$), vertically ($W_{vert}$), to overcome air resistance ($W_{air})$ and to swing the limbs ($W_{limbs}$)\r\n",
    "$$W_{total} = W_{hor} + W_{vert} + W_{air} + W_{limbs}$$"
   ],
   "metadata": {}
  },
  {
   "cell_type": "code",
   "execution_count": 2,
   "source": [
    "import pandas as pd \r\n",
    "import numpy as np\r\n",
    "import matplotlib.pyplot as plt"
   ],
   "outputs": [],
   "metadata": {}
  },
  {
   "cell_type": "code",
   "execution_count": 4,
   "source": [
    "df=pd.read_csv(\"20200129_185931_1_Jessica_challenor_samples.csv\")\r\n",
    "df"
   ],
   "outputs": [
    {
     "output_type": "execute_result",
     "data": {
      "text/plain": [
       "          Uhrzeit   Uhrzeit.1  HF [S/min]  Geschwindigkeit [km/h]  \\\n",
       "0      00:00:00.0  18:14:47.0       106.0                    0.00   \n",
       "1      00:00:00.1  18:14:47.1       106.0                    0.00   \n",
       "2      00:00:00.2  18:14:47.2       106.0                    0.00   \n",
       "3      00:00:00.3  18:14:47.3       106.0                    0.00   \n",
       "4      00:00:00.4  18:14:47.4       106.0                    0.00   \n",
       "...           ...         ...         ...                     ...   \n",
       "61618  01:42:41.8  19:57:28.8         NaN                    4.98   \n",
       "61619  01:42:41.9  19:57:28.9         NaN                    4.81   \n",
       "61620  01:42:42.0  19:57:29.0         NaN                    4.55   \n",
       "61621  01:42:42.1  19:57:29.1         NaN                    4.27   \n",
       "61622  01:42:42.2  19:57:29.2         NaN                    3.76   \n",
       "\n",
       "       Distanz [m]  Beschleunigung [m/s²]  Schrittfrequenz  \n",
       "0              0.0                   0.00                0  \n",
       "1              0.0                   0.00                0  \n",
       "2              0.0                   0.00                0  \n",
       "3              0.0                   0.00                0  \n",
       "4              0.0                   0.00                0  \n",
       "...            ...                    ...              ...  \n",
       "61618       7488.6                   0.89               52  \n",
       "61619       7488.7                   0.67               52  \n",
       "61620       7488.8                   0.45               43  \n",
       "61621       7488.9                   0.26               43  \n",
       "61622       7489.1                   0.09               43  \n",
       "\n",
       "[61623 rows x 7 columns]"
      ],
      "text/html": [
       "<div>\n",
       "<style scoped>\n",
       "    .dataframe tbody tr th:only-of-type {\n",
       "        vertical-align: middle;\n",
       "    }\n",
       "\n",
       "    .dataframe tbody tr th {\n",
       "        vertical-align: top;\n",
       "    }\n",
       "\n",
       "    .dataframe thead th {\n",
       "        text-align: right;\n",
       "    }\n",
       "</style>\n",
       "<table border=\"1\" class=\"dataframe\">\n",
       "  <thead>\n",
       "    <tr style=\"text-align: right;\">\n",
       "      <th></th>\n",
       "      <th>Uhrzeit</th>\n",
       "      <th>Uhrzeit.1</th>\n",
       "      <th>HF [S/min]</th>\n",
       "      <th>Geschwindigkeit [km/h]</th>\n",
       "      <th>Distanz [m]</th>\n",
       "      <th>Beschleunigung [m/s²]</th>\n",
       "      <th>Schrittfrequenz</th>\n",
       "    </tr>\n",
       "  </thead>\n",
       "  <tbody>\n",
       "    <tr>\n",
       "      <th>0</th>\n",
       "      <td>00:00:00.0</td>\n",
       "      <td>18:14:47.0</td>\n",
       "      <td>106.0</td>\n",
       "      <td>0.00</td>\n",
       "      <td>0.0</td>\n",
       "      <td>0.00</td>\n",
       "      <td>0</td>\n",
       "    </tr>\n",
       "    <tr>\n",
       "      <th>1</th>\n",
       "      <td>00:00:00.1</td>\n",
       "      <td>18:14:47.1</td>\n",
       "      <td>106.0</td>\n",
       "      <td>0.00</td>\n",
       "      <td>0.0</td>\n",
       "      <td>0.00</td>\n",
       "      <td>0</td>\n",
       "    </tr>\n",
       "    <tr>\n",
       "      <th>2</th>\n",
       "      <td>00:00:00.2</td>\n",
       "      <td>18:14:47.2</td>\n",
       "      <td>106.0</td>\n",
       "      <td>0.00</td>\n",
       "      <td>0.0</td>\n",
       "      <td>0.00</td>\n",
       "      <td>0</td>\n",
       "    </tr>\n",
       "    <tr>\n",
       "      <th>3</th>\n",
       "      <td>00:00:00.3</td>\n",
       "      <td>18:14:47.3</td>\n",
       "      <td>106.0</td>\n",
       "      <td>0.00</td>\n",
       "      <td>0.0</td>\n",
       "      <td>0.00</td>\n",
       "      <td>0</td>\n",
       "    </tr>\n",
       "    <tr>\n",
       "      <th>4</th>\n",
       "      <td>00:00:00.4</td>\n",
       "      <td>18:14:47.4</td>\n",
       "      <td>106.0</td>\n",
       "      <td>0.00</td>\n",
       "      <td>0.0</td>\n",
       "      <td>0.00</td>\n",
       "      <td>0</td>\n",
       "    </tr>\n",
       "    <tr>\n",
       "      <th>...</th>\n",
       "      <td>...</td>\n",
       "      <td>...</td>\n",
       "      <td>...</td>\n",
       "      <td>...</td>\n",
       "      <td>...</td>\n",
       "      <td>...</td>\n",
       "      <td>...</td>\n",
       "    </tr>\n",
       "    <tr>\n",
       "      <th>61618</th>\n",
       "      <td>01:42:41.8</td>\n",
       "      <td>19:57:28.8</td>\n",
       "      <td>NaN</td>\n",
       "      <td>4.98</td>\n",
       "      <td>7488.6</td>\n",
       "      <td>0.89</td>\n",
       "      <td>52</td>\n",
       "    </tr>\n",
       "    <tr>\n",
       "      <th>61619</th>\n",
       "      <td>01:42:41.9</td>\n",
       "      <td>19:57:28.9</td>\n",
       "      <td>NaN</td>\n",
       "      <td>4.81</td>\n",
       "      <td>7488.7</td>\n",
       "      <td>0.67</td>\n",
       "      <td>52</td>\n",
       "    </tr>\n",
       "    <tr>\n",
       "      <th>61620</th>\n",
       "      <td>01:42:42.0</td>\n",
       "      <td>19:57:29.0</td>\n",
       "      <td>NaN</td>\n",
       "      <td>4.55</td>\n",
       "      <td>7488.8</td>\n",
       "      <td>0.45</td>\n",
       "      <td>43</td>\n",
       "    </tr>\n",
       "    <tr>\n",
       "      <th>61621</th>\n",
       "      <td>01:42:42.1</td>\n",
       "      <td>19:57:29.1</td>\n",
       "      <td>NaN</td>\n",
       "      <td>4.27</td>\n",
       "      <td>7488.9</td>\n",
       "      <td>0.26</td>\n",
       "      <td>43</td>\n",
       "    </tr>\n",
       "    <tr>\n",
       "      <th>61622</th>\n",
       "      <td>01:42:42.2</td>\n",
       "      <td>19:57:29.2</td>\n",
       "      <td>NaN</td>\n",
       "      <td>3.76</td>\n",
       "      <td>7489.1</td>\n",
       "      <td>0.09</td>\n",
       "      <td>43</td>\n",
       "    </tr>\n",
       "  </tbody>\n",
       "</table>\n",
       "<p>61623 rows × 7 columns</p>\n",
       "</div>"
      ]
     },
     "metadata": {},
     "execution_count": 4
    }
   ],
   "metadata": {}
  },
  {
   "cell_type": "code",
   "execution_count": 6,
   "source": [
    "# adding v (velocity) collumn\r\n",
    "df['v']=df['Geschwindigkeit [km/h]']/3.6\r\n",
    "t_i = np.arange(0, len(df)/10, 0.1)\r\n",
    "v = df.v"
   ],
   "outputs": [],
   "metadata": {}
  },
  {
   "cell_type": "markdown",
   "source": [
    "## COM & Limb kinematics"
   ],
   "metadata": {}
  },
  {
   "cell_type": "code",
   "execution_count": 12,
   "source": [
    "dh = - 0.008 + 0.004 * v\r\n",
    "f = 0.026 * v**2 - 0.111 * v + 1.398\r\n",
    "d = 0.004 * v**2 - 0.061 * v + 0.5"
   ],
   "outputs": [],
   "metadata": {}
  },
  {
   "cell_type": "markdown",
   "source": [
    "## External Work\r\n",
    "### Calculating Horizontal and vertical Work"
   ],
   "metadata": {}
  },
  {
   "cell_type": "code",
   "execution_count": 13,
   "source": [
    "W_horz = np.cumsum(0.5 * (np.gradient(v**2)))\r\n",
    "W_vert = abs(np.cumsum(2 * 9.81 * dh * f))"
   ],
   "outputs": [],
   "metadata": {}
  },
  {
   "cell_type": "markdown",
   "source": [
    "### calculating Work against air"
   ],
   "metadata": {}
  },
  {
   "cell_type": "code",
   "execution_count": 14,
   "source": [
    "p_0 = 1293\r\n",
    "BP = 760\r\n",
    "T = 20\r\n",
    "\r\n",
    "p = 273 * p_0 * BP / 760 / T  \r\n",
    "\r\n",
    "ht = 65\r\n",
    "M = 55\r\n",
    "\r\n",
    "A_p = 0.26* (94.9 * ht**0.655 * M**0.441)\r\n",
    "\r\n",
    "C_d = 1\r\n",
    "\r\n",
    "#t_i = 0.1\r\n",
    "\r\n",
    "W_air =np.cumsum(0.5 * p * A_p * v**3 * C_d * t_i / M)\r\n",
    "\r\n",
    "# F_air = 0.5 * p * A_p * S**2 * C_d"
   ],
   "outputs": [],
   "metadata": {}
  },
  {
   "cell_type": "code",
   "execution_count": 15,
   "source": [
    "#plt.plot(W_air)\r\n",
    "#plt.plot(W_vert)\r\n",
    "plt.plot(W_horz)\r\n"
   ],
   "outputs": [
    {
     "output_type": "execute_result",
     "data": {
      "text/plain": [
       "[<matplotlib.lines.Line2D at 0x238e0fceb80>]"
      ]
     },
     "metadata": {},
     "execution_count": 15
    },
    {
     "output_type": "display_data",
     "data": {
      "text/plain": [
       "<Figure size 432x288 with 1 Axes>"
      ],
      "image/png": "[encoded data removed]"
     },
     "metadata": {
      "needs_background": "light"
     }
    }
   ],
   "metadata": {}
  },
  {
   "cell_type": "markdown",
   "source": [
    "## Internal Work"
   ],
   "metadata": {}
  },
  {
   "cell_type": "code",
   "execution_count": 44,
   "source": [
    "q = 0.1\r\n",
    "\r\n",
    "W_limbs = np.cumsum(q * v**3 * f * (1 + (d/(1-d))**2 ) * t_i)"
   ],
   "outputs": [],
   "metadata": {}
  },
  {
   "cell_type": "markdown",
   "source": [
    "# Calculating total work\r\n"
   ],
   "metadata": {}
  },
  {
   "cell_type": "code",
   "execution_count": 45,
   "source": [
    "W_total = 2 * W_vert + W_horz + W_limbs + W_air\r\n",
    "P_total = W_total / t_i"
   ],
   "outputs": [],
   "metadata": {}
  },
  {
   "cell_type": "code",
   "execution_count": 46,
   "source": [
    "plt.plot(P_total)"
   ],
   "outputs": [
    {
     "output_type": "execute_result",
     "data": {
      "text/plain": [
       "[<matplotlib.lines.Line2D at 0x2c4b9183ee0>]"
      ]
     },
     "metadata": {},
     "execution_count": 46
    },
    {
     "output_type": "display_data",
     "data": {
      "text/plain": [
       "<Figure size 432x288 with 1 Axes>"
      ],
      "image/png": "[encoded data removed]",
      "image/svg+xml": "<?xml version=\"1.0\" encoding=\"utf-8\" standalone=\"no\"?>\r\n<!DOCTYPE svg PUBLIC \"-//W3C//DTD SVG 1.1//EN\"\r\n  \"http://www.w3.org/Graphics/SVG/1.1/DTD/svg11.dtd\">\r\n<!-- Created with matplotlib (https://matplotlib.org/) -->\r\n<svg height=\"259.116562pt\" version=\"1.1\" viewBox=\"0 0 378.465625 259.116562\" width=\"378.465625pt\" xmlns=\"http://www.w3.org/2000/svg\" xmlns:xlink=\"http://www.w3.org/1999/xlink\">\r\n <metadata>\r\n  <rdf:RDF xmlns:cc=\"http://creativecommons.org/ns#\" xmlns:dc=\"http://purl.org/dc/elements/1.1/\" xmlns:rdf=\"http://www.w3.org/1999/02/22-rdf-syntax-ns#\">\r\n   <cc:Work>\r\n    <dc:type rdf:resource=\"http://purl.org/dc/dcmitype/StillImage\"/>\r\n    <dc:date>2021-06-08T23:44:25.223862</dc:date>\r\n    <dc:format>image/svg+xml</dc:format>\r\n    <dc:creator>\r\n     <cc:Agent>\r\n      <dc:title>Matplotlib v3.3.2, https://matplotlib.org/</dc:title>\r\n     </cc:Agent>\r\n    </dc:creator>\r\n   </cc:Work>\r\n  </rdf:RDF>\r\n </metadata>\r\n <defs>\r\n  <style type=\"text/css\">*{stroke-linecap:butt;stroke-linejoin:round;}</style>\r\n </defs>\r\n <g id=\"figure_1\">\r\n  <g id=\"patch_1\">\r\n   <path d=\"M 0 259.116562 \r\nL 378.465625 259.116562 \r\nL 378.465625 0 \r\nL 0 0 \r\nz\r\n\" style=\"fill:none;\"/>\r\n  </g>\r\n  <g id=\"axes_1\">\r\n   <g id=\"patch_2\">\r\n    <path d=\"M 36.465625 235.238437 \r\nL 371.265625 235.238437 \r\nL 371.265625 17.798437 \r\nL 36.465625 17.798437 \r\nz\r\n\" style=\"fill:#ffffff;\"/>\r\n   </g>\r\n   <g id=\"matplotlib.axis_1\">\r\n    <g id=\"xtick_1\">\r\n     <g id=\"line2d_1\">\r\n      <defs>\r\n       <path d=\"M 0 0 \r\nL 0 3.5 \r\n\" id=\"m663e53bd2e\" style=\"stroke:#000000;stroke-width:0.8;\"/>\r\n      </defs>\r\n      <g>\r\n       <use style=\"stroke:#000000;stroke-width:0.8;\" x=\"51.678868\" xlink:href=\"#m663e53bd2e\" y=\"235.238437\"/>\r\n      </g>\r\n     </g>\r\n     <g id=\"text_1\">\r\n      <!-- 0 -->\r\n      <g transform=\"translate(48.497618 249.836875)scale(0.1 -0.1)\">\r\n       <defs>\r\n        <path d=\"M 31.78125 66.40625 \r\nQ 24.171875 66.40625 20.328125 58.90625 \r\nQ 16.5 51.421875 16.5 36.375 \r\nQ 16.5 21.390625 20.328125 13.890625 \r\nQ 24.171875 6.390625 31.78125 6.390625 \r\nQ 39.453125 6.390625 43.28125 13.890625 \r\nQ 47.125 21.390625 47.125 36.375 \r\nQ 47.125 51.421875 43.28125 58.90625 \r\nQ 39.453125 66.40625 31.78125 66.40625 \r\nz\r\nM 31.78125 74.21875 \r\nQ 44.046875 74.21875 50.515625 64.515625 \r\nQ 56.984375 54.828125 56.984375 36.375 \r\nQ 56.984375 17.96875 50.515625 8.265625 \r\nQ 44.046875 -1.421875 31.78125 -1.421875 \r\nQ 19.53125 -1.421875 13.0625 8.265625 \r\nQ 6.59375 17.96875 6.59375 36.375 \r\nQ 6.59375 54.828125 13.0625 64.515625 \r\nQ 19.53125 74.21875 31.78125 74.21875 \r\nz\r\n\" id=\"DejaVuSans-48\"/>\r\n       </defs>\r\n       <use xlink:href=\"#DejaVuSans-48\"/>\r\n      </g>\r\n     </g>\r\n    </g>\r\n    <g id=\"xtick_2\">\r\n     <g id=\"line2d_2\">\r\n      <g>\r\n       <use style=\"stroke:#000000;stroke-width:0.8;\" x=\"101.07171\" xlink:href=\"#m663e53bd2e\" y=\"235.238437\"/>\r\n      </g>\r\n     </g>\r\n     <g id=\"text_2\">\r\n      <!-- 10000 -->\r\n      <g transform=\"translate(85.16546 249.836875)scale(0.1 -0.1)\">\r\n       <defs>\r\n        <path d=\"M 12.40625 8.296875 \r\nL 28.515625 8.296875 \r\nL 28.515625 63.921875 \r\nL 10.984375 60.40625 \r\nL 10.984375 69.390625 \r\nL 28.421875 72.90625 \r\nL 38.28125 72.90625 \r\nL 38.28125 8.296875 \r\nL 54.390625 8.296875 \r\nL 54.390625 0 \r\nL 12.40625 0 \r\nz\r\n\" id=\"DejaVuSans-49\"/>\r\n       </defs>\r\n       <use xlink:href=\"#DejaVuSans-49\"/>\r\n       <use x=\"63.623047\" xlink:href=\"#DejaVuSans-48\"/>\r\n       <use x=\"127.246094\" xlink:href=\"#DejaVuSans-48\"/>\r\n       <use x=\"190.869141\" xlink:href=\"#DejaVuSans-48\"/>\r\n       <use x=\"254.492188\" xlink:href=\"#DejaVuSans-48\"/>\r\n      </g>\r\n     </g>\r\n    </g>\r\n    <g id=\"xtick_3\">\r\n     <g id=\"line2d_3\">\r\n      <g>\r\n       <use style=\"stroke:#000000;stroke-width:0.8;\" x=\"150.464553\" xlink:href=\"#m663e53bd2e\" y=\"235.238437\"/>\r\n      </g>\r\n     </g>\r\n     <g id=\"text_3\">\r\n      <!-- 20000 -->\r\n      <g transform=\"translate(134.558303 249.836875)scale(0.1 -0.1)\">\r\n       <defs>\r\n        <path d=\"M 19.1875 8.296875 \r\nL 53.609375 8.296875 \r\nL 53.609375 0 \r\nL 7.328125 0 \r\nL 7.328125 8.296875 \r\nQ 12.9375 14.109375 22.625 23.890625 \r\nQ 32.328125 33.6875 34.8125 36.53125 \r\nQ 39.546875 41.84375 41.421875 45.53125 \r\nQ 43.3125 49.21875 43.3125 52.78125 \r\nQ 43.3125 58.59375 39.234375 62.25 \r\nQ 35.15625 65.921875 28.609375 65.921875 \r\nQ 23.96875 65.921875 18.8125 64.3125 \r\nQ 13.671875 62.703125 7.8125 59.421875 \r\nL 7.8125 69.390625 \r\nQ 13.765625 71.78125 18.9375 73 \r\nQ 24.125 74.21875 28.421875 74.21875 \r\nQ 39.75 74.21875 46.484375 68.546875 \r\nQ 53.21875 62.890625 53.21875 53.421875 \r\nQ 53.21875 48.921875 51.53125 44.890625 \r\nQ 49.859375 40.875 45.40625 35.40625 \r\nQ 44.1875 33.984375 37.640625 27.21875 \r\nQ 31.109375 20.453125 19.1875 8.296875 \r\nz\r\n\" id=\"DejaVuSans-50\"/>\r\n       </defs>\r\n       <use xlink:href=\"#DejaVuSans-50\"/>\r\n       <use x=\"63.623047\" xlink:href=\"#DejaVuSans-48\"/>\r\n       <use x=\"127.246094\" xlink:href=\"#DejaVuSans-48\"/>\r\n       <use x=\"190.869141\" xlink:href=\"#DejaVuSans-48\"/>\r\n       <use x=\"254.492188\" xlink:href=\"#DejaVuSans-48\"/>\r\n      </g>\r\n     </g>\r\n    </g>\r\n    <g id=\"xtick_4\">\r\n     <g id=\"line2d_4\">\r\n      <g>\r\n       <use style=\"stroke:#000000;stroke-width:0.8;\" x=\"199.857396\" xlink:href=\"#m663e53bd2e\" y=\"235.238437\"/>\r\n      </g>\r\n     </g>\r\n     <g id=\"text_4\">\r\n      <!-- 30000 -->\r\n      <g transform=\"translate(183.951146 249.836875)scale(0.1 -0.1)\">\r\n       <defs>\r\n        <path d=\"M 40.578125 39.3125 \r\nQ 47.65625 37.796875 51.625 33 \r\nQ 55.609375 28.21875 55.609375 21.1875 \r\nQ 55.609375 10.40625 48.1875 4.484375 \r\nQ 40.765625 -1.421875 27.09375 -1.421875 \r\nQ 22.515625 -1.421875 17.65625 -0.515625 \r\nQ 12.796875 0.390625 7.625 2.203125 \r\nL 7.625 11.71875 \r\nQ 11.71875 9.328125 16.59375 8.109375 \r\nQ 21.484375 6.890625 26.8125 6.890625 \r\nQ 36.078125 6.890625 40.9375 10.546875 \r\nQ 45.796875 14.203125 45.796875 21.1875 \r\nQ 45.796875 27.640625 41.28125 31.265625 \r\nQ 36.765625 34.90625 28.71875 34.90625 \r\nL 20.21875 34.90625 \r\nL 20.21875 43.015625 \r\nL 29.109375 43.015625 \r\nQ 36.375 43.015625 40.234375 45.921875 \r\nQ 44.09375 48.828125 44.09375 54.296875 \r\nQ 44.09375 59.90625 40.109375 62.90625 \r\nQ 36.140625 65.921875 28.71875 65.921875 \r\nQ 24.65625 65.921875 20.015625 65.03125 \r\nQ 15.375 64.15625 9.8125 62.3125 \r\nL 9.8125 71.09375 \r\nQ 15.4375 72.65625 20.34375 73.4375 \r\nQ 25.25 74.21875 29.59375 74.21875 \r\nQ 40.828125 74.21875 47.359375 69.109375 \r\nQ 53.90625 64.015625 53.90625 55.328125 \r\nQ 53.90625 49.265625 50.4375 45.09375 \r\nQ 46.96875 40.921875 40.578125 39.3125 \r\nz\r\n\" id=\"DejaVuSans-51\"/>\r\n       </defs>\r\n       <use xlink:href=\"#DejaVuSans-51\"/>\r\n       <use x=\"63.623047\" xlink:href=\"#DejaVuSans-48\"/>\r\n       <use x=\"127.246094\" xlink:href=\"#DejaVuSans-48\"/>\r\n       <use x=\"190.869141\" xlink:href=\"#DejaVuSans-48\"/>\r\n       <use x=\"254.492188\" xlink:href=\"#DejaVuSans-48\"/>\r\n      </g>\r\n     </g>\r\n    </g>\r\n    <g id=\"xtick_5\">\r\n     <g id=\"line2d_5\">\r\n      <g>\r\n       <use style=\"stroke:#000000;stroke-width:0.8;\" x=\"249.250239\" xlink:href=\"#m663e53bd2e\" y=\"235.238437\"/>\r\n      </g>\r\n     </g>\r\n     <g id=\"text_5\">\r\n      <!-- 40000 -->\r\n      <g transform=\"translate(233.343989 249.836875)scale(0.1 -0.1)\">\r\n       <defs>\r\n        <path d=\"M 37.796875 64.3125 \r\nL 12.890625 25.390625 \r\nL 37.796875 25.390625 \r\nz\r\nM 35.203125 72.90625 \r\nL 47.609375 72.90625 \r\nL 47.609375 25.390625 \r\nL 58.015625 25.390625 \r\nL 58.015625 17.1875 \r\nL 47.609375 17.1875 \r\nL 47.609375 0 \r\nL 37.796875 0 \r\nL 37.796875 17.1875 \r\nL 4.890625 17.1875 \r\nL 4.890625 26.703125 \r\nz\r\n\" id=\"DejaVuSans-52\"/>\r\n       </defs>\r\n       <use xlink:href=\"#DejaVuSans-52\"/>\r\n       <use x=\"63.623047\" xlink:href=\"#DejaVuSans-48\"/>\r\n       <use x=\"127.246094\" xlink:href=\"#DejaVuSans-48\"/>\r\n       <use x=\"190.869141\" xlink:href=\"#DejaVuSans-48\"/>\r\n       <use x=\"254.492188\" xlink:href=\"#DejaVuSans-48\"/>\r\n      </g>\r\n     </g>\r\n    </g>\r\n    <g id=\"xtick_6\">\r\n     <g id=\"line2d_6\">\r\n      <g>\r\n       <use style=\"stroke:#000000;stroke-width:0.8;\" x=\"298.643081\" xlink:href=\"#m663e53bd2e\" y=\"235.238437\"/>\r\n      </g>\r\n     </g>\r\n     <g id=\"text_6\">\r\n      <!-- 50000 -->\r\n      <g transform=\"translate(282.736831 249.836875)scale(0.1 -0.1)\">\r\n       <defs>\r\n        <path d=\"M 10.796875 72.90625 \r\nL 49.515625 72.90625 \r\nL 49.515625 64.59375 \r\nL 19.828125 64.59375 \r\nL 19.828125 46.734375 \r\nQ 21.96875 47.46875 24.109375 47.828125 \r\nQ 26.265625 48.1875 28.421875 48.1875 \r\nQ 40.625 48.1875 47.75 41.5 \r\nQ 54.890625 34.8125 54.890625 23.390625 \r\nQ 54.890625 11.625 47.5625 5.09375 \r\nQ 40.234375 -1.421875 26.90625 -1.421875 \r\nQ 22.3125 -1.421875 17.546875 -0.640625 \r\nQ 12.796875 0.140625 7.71875 1.703125 \r\nL 7.71875 11.625 \r\nQ 12.109375 9.234375 16.796875 8.0625 \r\nQ 21.484375 6.890625 26.703125 6.890625 \r\nQ 35.15625 6.890625 40.078125 11.328125 \r\nQ 45.015625 15.765625 45.015625 23.390625 \r\nQ 45.015625 31 40.078125 35.4375 \r\nQ 35.15625 39.890625 26.703125 39.890625 \r\nQ 22.75 39.890625 18.8125 39.015625 \r\nQ 14.890625 38.140625 10.796875 36.28125 \r\nz\r\n\" id=\"DejaVuSans-53\"/>\r\n       </defs>\r\n       <use xlink:href=\"#DejaVuSans-53\"/>\r\n       <use x=\"63.623047\" xlink:href=\"#DejaVuSans-48\"/>\r\n       <use x=\"127.246094\" xlink:href=\"#DejaVuSans-48\"/>\r\n       <use x=\"190.869141\" xlink:href=\"#DejaVuSans-48\"/>\r\n       <use x=\"254.492188\" xlink:href=\"#DejaVuSans-48\"/>\r\n      </g>\r\n     </g>\r\n    </g>\r\n    <g id=\"xtick_7\">\r\n     <g id=\"line2d_7\">\r\n      <g>\r\n       <use style=\"stroke:#000000;stroke-width:0.8;\" x=\"348.035924\" xlink:href=\"#m663e53bd2e\" y=\"235.238437\"/>\r\n      </g>\r\n     </g>\r\n     <g id=\"text_7\">\r\n      <!-- 60000 -->\r\n      <g transform=\"translate(332.129674 249.836875)scale(0.1 -0.1)\">\r\n       <defs>\r\n        <path d=\"M 33.015625 40.375 \r\nQ 26.375 40.375 22.484375 35.828125 \r\nQ 18.609375 31.296875 18.609375 23.390625 \r\nQ 18.609375 15.53125 22.484375 10.953125 \r\nQ 26.375 6.390625 33.015625 6.390625 \r\nQ 39.65625 6.390625 43.53125 10.953125 \r\nQ 47.40625 15.53125 47.40625 23.390625 \r\nQ 47.40625 31.296875 43.53125 35.828125 \r\nQ 39.65625 40.375 33.015625 40.375 \r\nz\r\nM 52.59375 71.296875 \r\nL 52.59375 62.3125 \r\nQ 48.875 64.0625 45.09375 64.984375 \r\nQ 41.3125 65.921875 37.59375 65.921875 \r\nQ 27.828125 65.921875 22.671875 59.328125 \r\nQ 17.53125 52.734375 16.796875 39.40625 \r\nQ 19.671875 43.65625 24.015625 45.921875 \r\nQ 28.375 48.1875 33.59375 48.1875 \r\nQ 44.578125 48.1875 50.953125 41.515625 \r\nQ 57.328125 34.859375 57.328125 23.390625 \r\nQ 57.328125 12.15625 50.6875 5.359375 \r\nQ 44.046875 -1.421875 33.015625 -1.421875 \r\nQ 20.359375 -1.421875 13.671875 8.265625 \r\nQ 6.984375 17.96875 6.984375 36.375 \r\nQ 6.984375 53.65625 15.1875 63.9375 \r\nQ 23.390625 74.21875 37.203125 74.21875 \r\nQ 40.921875 74.21875 44.703125 73.484375 \r\nQ 48.484375 72.75 52.59375 71.296875 \r\nz\r\n\" id=\"DejaVuSans-54\"/>\r\n       </defs>\r\n       <use xlink:href=\"#DejaVuSans-54\"/>\r\n       <use x=\"63.623047\" xlink:href=\"#DejaVuSans-48\"/>\r\n       <use x=\"127.246094\" xlink:href=\"#DejaVuSans-48\"/>\r\n       <use x=\"190.869141\" xlink:href=\"#DejaVuSans-48\"/>\r\n       <use x=\"254.492188\" xlink:href=\"#DejaVuSans-48\"/>\r\n      </g>\r\n     </g>\r\n    </g>\r\n   </g>\r\n   <g id=\"matplotlib.axis_2\">\r\n    <g id=\"ytick_1\">\r\n     <g id=\"line2d_8\">\r\n      <defs>\r\n       <path d=\"M 0 0 \r\nL -3.5 0 \r\n\" id=\"m299d8c3272\" style=\"stroke:#000000;stroke-width:0.8;\"/>\r\n      </defs>\r\n      <g>\r\n       <use style=\"stroke:#000000;stroke-width:0.8;\" x=\"36.465625\" xlink:href=\"#m299d8c3272\" y=\"225.354801\"/>\r\n      </g>\r\n     </g>\r\n     <g id=\"text_8\">\r\n      <!-- 0.00 -->\r\n      <g transform=\"translate(7.2 229.15402)scale(0.1 -0.1)\">\r\n       <defs>\r\n        <path d=\"M 10.6875 12.40625 \r\nL 21 12.40625 \r\nL 21 0 \r\nL 10.6875 0 \r\nz\r\n\" id=\"DejaVuSans-46\"/>\r\n       </defs>\r\n       <use xlink:href=\"#DejaVuSans-48\"/>\r\n       <use x=\"63.623047\" xlink:href=\"#DejaVuSans-46\"/>\r\n       <use x=\"95.410156\" xlink:href=\"#DejaVuSans-48\"/>\r\n       <use x=\"159.033203\" xlink:href=\"#DejaVuSans-48\"/>\r\n      </g>\r\n     </g>\r\n    </g>\r\n    <g id=\"ytick_2\">\r\n     <g id=\"line2d_9\">\r\n      <g>\r\n       <use style=\"stroke:#000000;stroke-width:0.8;\" x=\"36.465625\" xlink:href=\"#m299d8c3272\" y=\"200.512441\"/>\r\n      </g>\r\n     </g>\r\n     <g id=\"text_9\">\r\n      <!-- 0.25 -->\r\n      <g transform=\"translate(7.2 204.31166)scale(0.1 -0.1)\">\r\n       <use xlink:href=\"#DejaVuSans-48\"/>\r\n       <use x=\"63.623047\" xlink:href=\"#DejaVuSans-46\"/>\r\n       <use x=\"95.410156\" xlink:href=\"#DejaVuSans-50\"/>\r\n       <use x=\"159.033203\" xlink:href=\"#DejaVuSans-53\"/>\r\n      </g>\r\n     </g>\r\n    </g>\r\n    <g id=\"ytick_3\">\r\n     <g id=\"line2d_10\">\r\n      <g>\r\n       <use style=\"stroke:#000000;stroke-width:0.8;\" x=\"36.465625\" xlink:href=\"#m299d8c3272\" y=\"175.670081\"/>\r\n      </g>\r\n     </g>\r\n     <g id=\"text_10\">\r\n      <!-- 0.50 -->\r\n      <g transform=\"translate(7.2 179.4693)scale(0.1 -0.1)\">\r\n       <use xlink:href=\"#DejaVuSans-48\"/>\r\n       <use x=\"63.623047\" xlink:href=\"#DejaVuSans-46\"/>\r\n       <use x=\"95.410156\" xlink:href=\"#DejaVuSans-53\"/>\r\n       <use x=\"159.033203\" xlink:href=\"#DejaVuSans-48\"/>\r\n      </g>\r\n     </g>\r\n    </g>\r\n    <g id=\"ytick_4\">\r\n     <g id=\"line2d_11\">\r\n      <g>\r\n       <use style=\"stroke:#000000;stroke-width:0.8;\" x=\"36.465625\" xlink:href=\"#m299d8c3272\" y=\"150.827722\"/>\r\n      </g>\r\n     </g>\r\n     <g id=\"text_11\">\r\n      <!-- 0.75 -->\r\n      <g transform=\"translate(7.2 154.62694)scale(0.1 -0.1)\">\r\n       <defs>\r\n        <path d=\"M 8.203125 72.90625 \r\nL 55.078125 72.90625 \r\nL 55.078125 68.703125 \r\nL 28.609375 0 \r\nL 18.3125 0 \r\nL 43.21875 64.59375 \r\nL 8.203125 64.59375 \r\nz\r\n\" id=\"DejaVuSans-55\"/>\r\n       </defs>\r\n       <use xlink:href=\"#DejaVuSans-48\"/>\r\n       <use x=\"63.623047\" xlink:href=\"#DejaVuSans-46\"/>\r\n       <use x=\"95.410156\" xlink:href=\"#DejaVuSans-55\"/>\r\n       <use x=\"159.033203\" xlink:href=\"#DejaVuSans-53\"/>\r\n      </g>\r\n     </g>\r\n    </g>\r\n    <g id=\"ytick_5\">\r\n     <g id=\"line2d_12\">\r\n      <g>\r\n       <use style=\"stroke:#000000;stroke-width:0.8;\" x=\"36.465625\" xlink:href=\"#m299d8c3272\" y=\"125.985362\"/>\r\n      </g>\r\n     </g>\r\n     <g id=\"text_12\">\r\n      <!-- 1.00 -->\r\n      <g transform=\"translate(7.2 129.78458)scale(0.1 -0.1)\">\r\n       <use xlink:href=\"#DejaVuSans-49\"/>\r\n       <use x=\"63.623047\" xlink:href=\"#DejaVuSans-46\"/>\r\n       <use x=\"95.410156\" xlink:href=\"#DejaVuSans-48\"/>\r\n       <use x=\"159.033203\" xlink:href=\"#DejaVuSans-48\"/>\r\n      </g>\r\n     </g>\r\n    </g>\r\n    <g id=\"ytick_6\">\r\n     <g id=\"line2d_13\">\r\n      <g>\r\n       <use style=\"stroke:#000000;stroke-width:0.8;\" x=\"36.465625\" xlink:href=\"#m299d8c3272\" y=\"101.143002\"/>\r\n      </g>\r\n     </g>\r\n     <g id=\"text_13\">\r\n      <!-- 1.25 -->\r\n      <g transform=\"translate(7.2 104.942221)scale(0.1 -0.1)\">\r\n       <use xlink:href=\"#DejaVuSans-49\"/>\r\n       <use x=\"63.623047\" xlink:href=\"#DejaVuSans-46\"/>\r\n       <use x=\"95.410156\" xlink:href=\"#DejaVuSans-50\"/>\r\n       <use x=\"159.033203\" xlink:href=\"#DejaVuSans-53\"/>\r\n      </g>\r\n     </g>\r\n    </g>\r\n    <g id=\"ytick_7\">\r\n     <g id=\"line2d_14\">\r\n      <g>\r\n       <use style=\"stroke:#000000;stroke-width:0.8;\" x=\"36.465625\" xlink:href=\"#m299d8c3272\" y=\"76.300642\"/>\r\n      </g>\r\n     </g>\r\n     <g id=\"text_14\">\r\n      <!-- 1.50 -->\r\n      <g transform=\"translate(7.2 80.099861)scale(0.1 -0.1)\">\r\n       <use xlink:href=\"#DejaVuSans-49\"/>\r\n       <use x=\"63.623047\" xlink:href=\"#DejaVuSans-46\"/>\r\n       <use x=\"95.410156\" xlink:href=\"#DejaVuSans-53\"/>\r\n       <use x=\"159.033203\" xlink:href=\"#DejaVuSans-48\"/>\r\n      </g>\r\n     </g>\r\n    </g>\r\n    <g id=\"ytick_8\">\r\n     <g id=\"line2d_15\">\r\n      <g>\r\n       <use style=\"stroke:#000000;stroke-width:0.8;\" x=\"36.465625\" xlink:href=\"#m299d8c3272\" y=\"51.458282\"/>\r\n      </g>\r\n     </g>\r\n     <g id=\"text_15\">\r\n      <!-- 1.75 -->\r\n      <g transform=\"translate(7.2 55.257501)scale(0.1 -0.1)\">\r\n       <use xlink:href=\"#DejaVuSans-49\"/>\r\n       <use x=\"63.623047\" xlink:href=\"#DejaVuSans-46\"/>\r\n       <use x=\"95.410156\" xlink:href=\"#DejaVuSans-55\"/>\r\n       <use x=\"159.033203\" xlink:href=\"#DejaVuSans-53\"/>\r\n      </g>\r\n     </g>\r\n    </g>\r\n    <g id=\"ytick_9\">\r\n     <g id=\"line2d_16\">\r\n      <g>\r\n       <use style=\"stroke:#000000;stroke-width:0.8;\" x=\"36.465625\" xlink:href=\"#m299d8c3272\" y=\"26.615922\"/>\r\n      </g>\r\n     </g>\r\n     <g id=\"text_16\">\r\n      <!-- 2.00 -->\r\n      <g transform=\"translate(7.2 30.415141)scale(0.1 -0.1)\">\r\n       <use xlink:href=\"#DejaVuSans-50\"/>\r\n       <use x=\"63.623047\" xlink:href=\"#DejaVuSans-46\"/>\r\n       <use x=\"95.410156\" xlink:href=\"#DejaVuSans-48\"/>\r\n       <use x=\"159.033203\" xlink:href=\"#DejaVuSans-48\"/>\r\n      </g>\r\n     </g>\r\n    </g>\r\n    <g id=\"text_17\">\r\n     <!-- 1e11 -->\r\n     <g transform=\"translate(36.465625 14.798437)scale(0.1 -0.1)\">\r\n      <defs>\r\n       <path d=\"M 56.203125 29.59375 \r\nL 56.203125 25.203125 \r\nL 14.890625 25.203125 \r\nQ 15.484375 15.921875 20.484375 11.0625 \r\nQ 25.484375 6.203125 34.421875 6.203125 \r\nQ 39.59375 6.203125 44.453125 7.46875 \r\nQ 49.3125 8.734375 54.109375 11.28125 \r\nL 54.109375 2.78125 \r\nQ 49.265625 0.734375 44.1875 -0.34375 \r\nQ 39.109375 -1.421875 33.890625 -1.421875 \r\nQ 20.796875 -1.421875 13.15625 6.1875 \r\nQ 5.515625 13.8125 5.515625 26.8125 \r\nQ 5.515625 40.234375 12.765625 48.109375 \r\nQ 20.015625 56 32.328125 56 \r\nQ 43.359375 56 49.78125 48.890625 \r\nQ 56.203125 41.796875 56.203125 29.59375 \r\nz\r\nM 47.21875 32.234375 \r\nQ 47.125 39.59375 43.09375 43.984375 \r\nQ 39.0625 48.390625 32.421875 48.390625 \r\nQ 24.90625 48.390625 20.390625 44.140625 \r\nQ 15.875 39.890625 15.1875 32.171875 \r\nz\r\n\" id=\"DejaVuSans-101\"/>\r\n      </defs>\r\n      <use xlink:href=\"#DejaVuSans-49\"/>\r\n      <use x=\"63.623047\" xlink:href=\"#DejaVuSans-101\"/>\r\n      <use x=\"125.146484\" xlink:href=\"#DejaVuSans-49\"/>\r\n      <use x=\"188.769531\" xlink:href=\"#DejaVuSans-49\"/>\r\n     </g>\r\n    </g>\r\n   </g>\r\n   <g id=\"line2d_17\">\r\n    <path clip-path=\"url(#pf5ae215401)\" d=\"M 51.683807 225.354801 \r\nL 56.899691 225.24834 \r\nL 59.31994 221.326566 \r\nL 59.547147 220.943561 \r\nL 59.947229 220.407083 \r\nL 60.480672 219.572853 \r\nL 60.940026 217.237745 \r\nL 61.997032 216.286541 \r\nL 62.130393 214.825158 \r\nL 62.28845 213.755254 \r\nL 62.332904 213.77646 \r\nL 62.579868 213.83753 \r\nL 62.821893 213.74953 \r\nL 62.9108 212.720051 \r\nL 63.177521 209.548107 \r\nL 63.226914 209.58014 \r\nL 63.967807 210.474022 \r\nL 65.350806 211.973754 \r\nL 66.862227 213.297928 \r\nL 68.581098 214.521035 \r\nL 70.398755 215.535536 \r\nL 72.483133 216.422932 \r\nL 74.113097 216.998512 \r\nL 74.30079 216.941281 \r\nL 74.592207 216.681416 \r\nL 74.903382 216.472115 \r\nL 75.096014 216.172471 \r\nL 75.412128 216.225035 \r\nL 76.0246 216.297328 \r\nL 76.261685 215.903514 \r\nL 76.681525 215.765659 \r\nL 76.869217 215.58105 \r\nL 77.901528 215.705171 \r\nL 78.064524 215.424012 \r\nL 78.588088 215.306075 \r\nL 78.701692 215.195509 \r\nL 78.731328 215.204581 \r\nL 79.170924 215.228779 \r\nL 79.249952 214.577008 \r\nL 79.427767 210.655272 \r\nL 79.556188 209.177212 \r\nL 79.590763 209.191844 \r\nL 80.311898 209.445891 \r\nL 82.099919 210.143963 \r\nL 82.549394 210.341119 \r\nL 82.569151 210.257506 \r\nL 82.662998 209.95368 \r\nL 82.722269 209.96688 \r\nL 83.329801 210.220731 \r\nL 83.715065 210.367049 \r\nL 83.734822 210.297344 \r\nL 83.947212 209.536495 \r\nL 83.971908 209.543559 \r\nL 85.014097 210.001913 \r\nL 85.043733 209.841987 \r\nL 85.191911 209.513841 \r\nL 85.226486 209.364446 \r\nL 85.379604 207.636121 \r\nL 85.512965 207.681396 \r\nL 86.540336 207.999673 \r\nL 87.706007 208.527354 \r\nL 90.467067 209.694195 \r\nL 92.190877 210.270505 \r\nL 94.250559 210.932092 \r\nL 95.332262 211.16265 \r\nL 96.181819 211.319993 \r\nL 97.950083 211.7582 \r\nL 99.298507 211.893086 \r\nL 100.439482 212.090344 \r\nL 100.52345 211.566741 \r\nL 100.617296 211.169981 \r\nL 100.671628 211.183111 \r\nL 101.906449 211.407684 \r\nL 102.153414 210.921283 \r\nL 102.835035 210.854053 \r\nL 103.808074 211.015508 \r\nL 103.877224 210.507663 \r\nL 104.173581 208.600534 \r\nL 104.484756 208.446655 \r\nL 105.097227 208.424958 \r\nL 105.813423 208.62281 \r\nL 106.564194 208.778994 \r\nL 106.569134 208.753421 \r\nL 106.697555 207.441324 \r\nL 106.895126 205.449878 \r\nL 107.07788 205.475344 \r\nL 109.236347 205.9707 \r\nL 109.389465 205.929633 \r\nL 110.308172 206.106867 \r\nL 110.905825 206.155932 \r\nL 111.054004 206.151799 \r\nL 111.785018 206.225002 \r\nL 112.017164 206.251411 \r\nL 113.28656 206.501232 \r\nL 114.220085 206.733199 \r\nL 117.000902 207.443584 \r\nL 118.729652 207.752019 \r\nL 118.966737 207.306553 \r\nL 120.097833 207.539714 \r\nL 120.349737 207.537799 \r\nL 120.359615 207.494424 \r\nL 120.581883 206.88081 \r\nL 121.248687 206.880072 \r\nL 122.038972 206.953315 \r\nL 122.320511 206.059973 \r\nL 125.694042 206.555252 \r\nL 125.901492 206.160784 \r\nL 126.336149 206.179069 \r\nL 127.398095 206.4309 \r\nL 128.504495 206.605119 \r\nL 128.736642 206.297491 \r\nL 129.487413 206.421581 \r\nL 130.855594 206.623135 \r\nL 131.512519 206.715155 \r\nL 134.041433 207.191673 \r\nL 135.187347 207.22558 \r\nL 135.379979 207.238137 \r\nL 135.824514 207.221355 \r\nL 135.982572 207.134001 \r\nL 136.392532 207.154919 \r\nL 136.550589 207.078958 \r\nL 136.812371 206.753614 \r\nL 137.296421 206.733127 \r\nL 138.175614 206.686177 \r\nL 138.333671 206.214544 \r\nL 138.432457 206.014776 \r\nL 138.471971 206.020631 \r\nL 139.484524 205.972403 \r\nL 140.655134 206.182404 \r\nL 143.811337 206.724274 \r\nL 143.99903 206.536821 \r\nL 144.250933 206.50153 \r\nL 148.256693 207.251352 \r\nL 150.1435 207.479123 \r\nL 150.933785 207.466585 \r\nL 151.926581 207.561987 \r\nL 153.773874 207.777754 \r\nL 154.440677 207.868367 \r\nL 157.675908 208.306559 \r\nL 158.500769 208.234836 \r\nL 159.142876 208.310472 \r\nL 167.272937 209.487383 \r\nL 170.582258 209.828211 \r\nL 171.693597 209.83687 \r\nL 182.071033 211.066647 \r\nL 182.629172 211.025693 \r\nL 182.708201 210.364647 \r\nL 182.802047 209.738211 \r\nL 182.856379 209.743407 \r\nL 186.699142 210.048249 \r\nL 186.881896 209.796472 \r\nL 187.104164 209.401948 \r\nL 187.494367 209.426356 \r\nL 190.309759 209.499109 \r\nL 190.462877 209.426847 \r\nL 190.769113 209.43253 \r\nL 191.529763 209.380292 \r\nL 191.717455 209.064445 \r\nL 193.110333 209.007383 \r\nL 193.278269 208.910087 \r\nL 193.451144 208.843917 \r\nL 193.530173 208.722844 \r\nL 193.811712 208.268083 \r\nL 194.271065 208.086135 \r\nL 194.764994 206.585713 \r\nL 195.026776 206.493605 \r\nL 195.249044 206.479069 \r\nL 195.994876 206.437692 \r\nL 196.049208 206.243367 \r\nL 196.44929 203.850655 \r\nL 196.992611 203.665939 \r\nL 197.476661 202.822428 \r\nL 197.605082 202.330049 \r\nL 197.817471 201.926197 \r\nL 198.015043 201.83451 \r\nL 198.286703 201.226517 \r\nL 198.459578 199.862488 \r\nL 198.691725 198.024938 \r\nL 198.99796 197.862089 \r\nL 199.20541 197.591715 \r\nL 199.407921 197.489498 \r\nL 199.521524 197.078538 \r\nL 199.867274 194.727537 \r\nL 200.059906 194.221921 \r\nL 201.319424 193.778476 \r\nL 201.566388 193.23426 \r\nL 201.936834 190.818278 \r\nL 202.060317 190.662289 \r\nL 202.356674 190.176037 \r\nL 203.225988 190.085234 \r\nL 203.62607 189.237614 \r\nL 203.937245 188.638399 \r\nL 204.100241 188.477973 \r\nL 204.460809 188.443166 \r\nL 204.559594 187.903079 \r\nL 204.771984 187.385582 \r\nL 204.925101 187.274368 \r\nL 205.28073 186.149383 \r\nL 205.478301 186.088828 \r\nL 205.621541 185.923288 \r\nL 205.769719 185.883971 \r\nL 205.89814 185.729072 \r\nL 206.130287 185.286828 \r\nL 206.327858 185.187081 \r\nL 206.510612 184.930684 \r\nL 206.673608 184.82971 \r\nL 207.019358 183.606427 \r\nL 207.256444 182.302281 \r\nL 207.572558 182.072454 \r\nL 207.740494 182.009305 \r\nL 207.883733 181.944441 \r\nL 208.392479 181.930837 \r\nL 208.688836 181.614861 \r\nL 209.577907 181.524523 \r\nL 209.686572 180.33186 \r\nL 209.982929 177.067471 \r\nL 210.007625 177.072263 \r\nL 211.642528 177.41034 \r\nL 213.455245 177.722342 \r\nL 215.850798 178.406893 \r\nL 226.317142 181.199792 \r\nL 228.371884 181.610466 \r\nL 228.865812 179.730519 \r\nL 229.330105 178.092668 \r\nL 229.774641 177.471383 \r\nL 229.937637 177.359413 \r\nL 230.135208 176.959421 \r\nL 232.703636 177.390749 \r\nL 232.836997 177.368511 \r\nL 233.266715 177.20322 \r\nL 233.454407 176.436273 \r\nL 233.696432 175.836847 \r\nL 234.017486 175.828337 \r\nL 234.669471 175.854216 \r\nL 234.81765 175.864709 \r\nL 234.975707 175.775493 \r\nL 235.054736 175.421175 \r\nL 235.178218 174.827957 \r\nL 235.23255 174.839265 \r\nL 235.395546 174.756422 \r\nL 235.686964 174.179718 \r\nL 236.254982 174.060495 \r\nL 236.437735 173.504564 \r\nL 236.758789 171.707812 \r\nL 236.990935 170.793411 \r\nL 237.524378 170.825141 \r\nL 238.359117 170.941019 \r\nL 242.829169 172.073032 \r\nL 243.673787 172.139351 \r\nL 244.75549 172.275443 \r\nL 244.948122 171.992195 \r\nL 245.5112 170.870439 \r\nL 245.753225 169.219407 \r\nL 245.9261 169.092599 \r\nL 246.420029 169.108809 \r\nL 246.652175 168.821008 \r\nL 247.141164 168.77003 \r\nL 247.600518 168.097953 \r\nL 247.748696 167.954158 \r\nL 247.891935 167.735467 \r\nL 247.916632 167.742426 \r\nL 248.558739 167.812426 \r\nL 248.637767 167.665994 \r\nL 248.815582 167.432611 \r\nL 248.944003 167.308586 \r\nL 249.314449 166.432447 \r\nL 249.452749 166.330814 \r\nL 249.536717 165.943067 \r\nL 249.803438 164.543303 \r\nL 250.075099 164.59789 \r\nL 250.297367 164.513258 \r\nL 250.450485 164.187191 \r\nL 250.494938 164.19975 \r\nL 250.662874 164.138342 \r\nL 250.766599 163.713082 \r\nL 251.053077 162.856765 \r\nL 251.300042 162.77906 \r\nL 251.779152 158.808516 \r\nL 251.937209 157.532856 \r\nL 251.956966 157.536554 \r\nL 252.357048 157.544828 \r\nL 252.767009 157.459178 \r\nL 252.944823 157.39271 \r\nL 253.088062 157.364537 \r\nL 253.828955 157.543598 \r\nL 255.473737 157.98663 \r\nL 255.775033 157.734338 \r\nL 255.834305 157.652965 \r\nL 255.898515 156.624698 \r\nL 256.150419 152.223185 \r\nL 256.372686 152.184403 \r\nL 256.604833 152.14645 \r\nL 256.836979 152.029532 \r\nL 257.098761 151.920978 \r\nL 257.493904 151.014205 \r\nL 257.666779 150.948744 \r\nL 257.874229 150.181202 \r\nL 258.111315 148.680318 \r\nL 258.165647 148.693754 \r\nL 258.753422 148.769093 \r\nL 258.871964 148.640517 \r\nL 259.188079 148.485115 \r\nL 259.899335 148.498609 \r\nL 260.457475 145.812496 \r\nL 260.516746 145.827325 \r\nL 260.610592 145.737853 \r\nL 260.719257 145.033349 \r\nL 260.857557 144.39814 \r\nL 260.916828 144.41451 \r\nL 261.045249 144.334465 \r\nL 261.24776 144.079891 \r\nL 261.771324 144.127499 \r\nL 261.983713 143.923804 \r\nL 262.230678 143.870327 \r\nL 262.457885 143.676884 \r\nL 264.413841 144.048944 \r\nL 264.843559 143.950407 \r\nL 265.169552 142.975237 \r\nL 265.727691 142.979547 \r\nL 266.206801 142.990728 \r\nL 266.429069 142.821591 \r\nL 266.542673 142.745048 \r\nL 266.676033 141.250239 \r\nL 266.898301 139.116092 \r\nL 267.110691 138.954346 \r\nL 267.782433 139.101201 \r\nL 267.856522 138.875291 \r\nL 267.980005 138.642858 \r\nL 268.024458 138.65711 \r\nL 268.56284 138.701874 \r\nL 268.740654 138.691516 \r\nL 268.898711 138.613153 \r\nL 269.120979 138.469749 \r\nL 269.249401 138.288301 \r\nL 269.382761 137.441388 \r\nL 269.580333 136.71874 \r\nL 269.787783 136.591941 \r\nL 270.173047 136.635596 \r\nL 270.439768 136.414943 \r\nL 270.578068 136.331098 \r\nL 270.918879 136.153696 \r\nL 271.180661 136.076356 \r\nL 271.570864 134.781331 \r\nL 271.714103 134.679596 \r\nL 271.867221 134.656634 \r\nL 271.926493 134.550491 \r\nL 272.390785 133.411578 \r\nL 272.534025 133.326611 \r\nL 272.672325 133.327045 \r\nL 272.766171 133.205255 \r\nL 272.919289 133.119336 \r\nL 273.358885 133.182263 \r\nL 273.363824 133.162182 \r\nL 273.60091 132.493296 \r\nL 273.605849 132.494312 \r\nL 273.689817 132.425324 \r\nL 273.694756 132.403296 \r\nL 274.000992 131.06534 \r\nL 274.08496 131.091056 \r\nL 274.870306 131.266994 \r\nL 274.875245 131.252948 \r\nL 274.949335 130.660622 \r\nL 275.171602 129.539068 \r\nL 275.344477 129.597437 \r\nL 275.46796 129.585817 \r\nL 275.482777 129.539649 \r\nL 275.709984 128.478088 \r\nL 275.843345 128.533454 \r\nL 276.766991 128.811807 \r\nL 280.175097 129.850464 \r\nL 281.726033 130.378872 \r\nL 282.239718 130.34179 \r\nL 282.471865 130.096321 \r\nL 283.074457 130.155985 \r\nL 283.430086 129.896294 \r\nL 283.780775 129.834716 \r\nL 283.983286 129.454387 \r\nL 284.279643 128.128238 \r\nL 284.526607 128.029406 \r\nL 284.951385 128.130528 \r\nL 284.961264 128.100322 \r\nL 285.045232 127.293742 \r\nL 285.242803 122.354544 \r\nL 285.445314 120.067072 \r\nL 285.573735 119.953912 \r\nL 285.776246 119.601683 \r\nL 285.95406 119.524376 \r\nL 286.09236 119.162131 \r\nL 286.141753 119.177898 \r\nL 286.724588 119.282455 \r\nL 287.183942 118.629534 \r\nL 287.919895 118.566174 \r\nL 288.102649 118.611491 \r\nL 288.453338 118.616336 \r\nL 288.754634 118.525565 \r\nL 288.902813 118.542674 \r\nL 288.962084 118.419556 \r\nL 289.041113 118.206645 \r\nL 289.110263 118.228077 \r\nL 289.673341 118.182993 \r\nL 289.757309 118.080348 \r\nL 289.856095 117.447959 \r\nL 290.043787 116.650424 \r\nL 290.330266 116.74539 \r\nL 290.433991 116.672037 \r\nL 290.64638 116.509001 \r\nL 290.878526 116.429354 \r\nL 291.06128 115.689715 \r\nL 291.308244 114.682517 \r\nL 291.456423 114.697026 \r\nL 291.54533 114.609107 \r\nL 291.733023 114.28796 \r\nL 291.792294 114.315112 \r\nL 292.078773 114.331654 \r\nL 292.37019 114.003381 \r\nL 293.496347 114.37907 \r\nL 295.225097 115.007828 \r\nL 300.090292 117.09147 \r\nL 300.65337 117.201519 \r\nL 301.725195 117.5942 \r\nL 304.535647 118.687458 \r\nL 304.851762 118.70479 \r\nL 306.007554 118.986403 \r\nL 306.669418 119.219107 \r\nL 306.689175 119.153272 \r\nL 306.763265 118.325776 \r\nL 306.950957 114.195642 \r\nL 307.232497 110.784326 \r\nL 307.627639 110.931912 \r\nL 308.166021 111.111472 \r\nL 308.185779 111.047921 \r\nL 308.254929 110.250414 \r\nL 308.635253 104.416433 \r\nL 308.773553 103.938067 \r\nL 308.79825 103.943928 \r\nL 309.672503 104.305243 \r\nL 309.6972 104.183237 \r\nL 309.825621 102.245704 \r\nL 310.166432 98.203103 \r\nL 310.304732 97.941346 \r\nL 310.324489 97.946126 \r\nL 311.001171 98.258983 \r\nL 311.129592 98.294581 \r\nL 311.149349 98.217817 \r\nL 311.277771 96.59223 \r\nL 311.732185 90.448095 \r\nL 311.76182 90.45693 \r\nL 312.902795 90.994392 \r\nL 315.303287 92.106413 \r\nL 315.42183 91.619051 \r\nL 315.757701 90.450775 \r\nL 316.380051 90.445873 \r\nL 317.738354 91.011587 \r\nL 318.232283 91.088107 \r\nL 319.234957 91.14537 \r\nL 319.239897 91.104252 \r\nL 319.383136 88.343339 \r\nL 319.733825 84.49035 \r\nL 319.872125 84.458687 \r\nL 320.494475 84.721581 \r\nL 320.524111 84.571155 \r\nL 320.647593 83.1984 \r\nL 321.072371 76.135304 \r\nL 321.14646 76.161411 \r\nL 321.90711 76.529642 \r\nL 321.921928 76.462151 \r\nL 322.005896 74.728682 \r\nL 322.386221 67.587937 \r\nL 322.494885 67.462652 \r\nL 322.524521 67.478061 \r\nL 323.472863 67.951487 \r\nL 323.487681 67.914919 \r\nL 323.546953 67.330461 \r\nL 324.011245 59.325047 \r\nL 324.065577 59.331016 \r\nL 324.332299 59.438622 \r\nL 327.878705 61.505066 \r\nL 327.908341 61.351184 \r\nL 328.036762 59.138331 \r\nL 328.402269 51.522592 \r\nL 328.46648 51.549505 \r\nL 329.375308 52.049348 \r\nL 329.400005 51.914911 \r\nL 329.49879 50.137568 \r\nL 329.879115 42.696436 \r\nL 329.953204 42.672258 \r\nL 329.997658 42.692048 \r\nL 330.857093 43.194822 \r\nL 330.886729 43.024786 \r\nL 331.010211 40.996312 \r\nL 331.43499 34.727573 \r\nL 331.602925 34.821189 \r\nL 332.304304 35.232596 \r\nL 332.324061 35.184697 \r\nL 332.393211 34.598268 \r\nL 332.585843 31.071265 \r\nL 332.822929 27.682074 \r\nL 332.852564 27.695631 \r\nL 333.455157 28.057505 \r\nL 334.507224 28.641014 \r\nL 335.791438 28.863378 \r\nL 336.724963 29.008534 \r\nL 339.639141 29.224566 \r\nL 340.138009 29.219097 \r\nL 340.666512 29.329571 \r\nL 342.785465 29.635319 \r\nL 343.328786 29.635897 \r\nL 344.810571 29.616835 \r\nL 345.427982 29.545228 \r\nL 347.685235 29.271027 \r\nL 348.431067 29.199288 \r\nL 349.063295 29.258114 \r\nL 349.58192 29.206035 \r\nL 350.056091 29.140068 \r\nL 350.574716 29.142752 \r\nL 350.841438 29.156047 \r\nL 354.308815 29.086122 \r\nL 354.68914 29.262013 \r\nL 356.047443 29.839093 \r\nL 356.047443 29.839093 \r\n\" style=\"fill:none;stroke:#1f77b4;stroke-linecap:square;stroke-width:1.5;\"/>\r\n   </g>\r\n   <g id=\"patch_3\">\r\n    <path d=\"M 36.465625 235.238438 \r\nL 36.465625 17.798437 \r\n\" style=\"fill:none;stroke:#000000;stroke-linecap:square;stroke-linejoin:miter;stroke-width:0.8;\"/>\r\n   </g>\r\n   <g id=\"patch_4\">\r\n    <path d=\"M 371.265625 235.238438 \r\nL 371.265625 17.798437 \r\n\" style=\"fill:none;stroke:#000000;stroke-linecap:square;stroke-linejoin:miter;stroke-width:0.8;\"/>\r\n   </g>\r\n   <g id=\"patch_5\">\r\n    <path d=\"M 36.465625 235.238437 \r\nL 371.265625 235.238437 \r\n\" style=\"fill:none;stroke:#000000;stroke-linecap:square;stroke-linejoin:miter;stroke-width:0.8;\"/>\r\n   </g>\r\n   <g id=\"patch_6\">\r\n    <path d=\"M 36.465625 17.798437 \r\nL 371.265625 17.798437 \r\n\" style=\"fill:none;stroke:#000000;stroke-linecap:square;stroke-linejoin:miter;stroke-width:0.8;\"/>\r\n   </g>\r\n  </g>\r\n </g>\r\n <defs>\r\n  <clipPath id=\"pf5ae215401\">\r\n   <rect height=\"217.44\" width=\"334.8\" x=\"36.465625\" y=\"17.798437\"/>\r\n  </clipPath>\r\n </defs>\r\n</svg>\r\n"
     },
     "metadata": {
      "needs_background": "light"
     }
    }
   ],
   "metadata": {}
  }
 ]
}